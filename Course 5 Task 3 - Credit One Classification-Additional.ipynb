{
 "cells": [
  {
   "cell_type": "markdown",
   "metadata": {},
   "source": [
    "# Course 5 Task 3 - Credit One Classification - Additional Drill-in\n",
    "### Andrew Janzen\n",
    "### September 10, 2019"
   ]
  },
  {
   "cell_type": "markdown",
   "metadata": {},
   "source": [
    "### Objectives:\n",
    "* Apply classification modeling to dataset\n",
    "* Consolidate findings to final report"
   ]
  },
  {
   "cell_type": "code",
   "execution_count": 1,
   "metadata": {},
   "outputs": [],
   "source": [
    "#Imports\n",
    "#numpy,pandas,scipy, math, matplotlib\n",
    "import numpy as np\n",
    "import pandas as pd\n",
    "import scipy\n",
    "from math import sqrt\n",
    "import matplotlib.pyplot as plt"
   ]
  },
  {
   "cell_type": "code",
   "execution_count": 2,
   "metadata": {},
   "outputs": [],
   "source": [
    "#Import dataset processed in Course 5 Task 2\n",
    "pcf = pd.read_csv('prepped_credit_file.csv', header =0)"
   ]
  },
  {
   "cell_type": "code",
   "execution_count": 3,
   "metadata": {},
   "outputs": [],
   "source": [
    "#Estimators\n",
    "from sklearn.ensemble import RandomForestClassifier\n",
    "from sklearn.neighbors import KNeighborsClassifier\n",
    "from sklearn.svm import SVC"
   ]
  },
  {
   "cell_type": "code",
   "execution_count": 4,
   "metadata": {},
   "outputs": [],
   "source": [
    "#Model metrics\n",
    "from sklearn.metrics import cohen_kappa_score\n",
    "from sklearn.metrics import accuracy_score\n",
    "from sklearn.model_selection import cross_val_score"
   ]
  },
  {
   "cell_type": "code",
   "execution_count": 5,
   "metadata": {},
   "outputs": [],
   "source": [
    "#Cross validation\n",
    "#from sklearn.cross_validation import train_test_split\n",
    "from sklearn.model_selection import train_test_split"
   ]
  },
  {
   "cell_type": "code",
   "execution_count": 6,
   "metadata": {},
   "outputs": [],
   "source": [
    "modelSVC = SVC()\n",
    "modelRFC = RandomForestClassifier()\n",
    "modelKNC = KNeighborsClassifier()"
   ]
  },
  {
   "cell_type": "code",
   "execution_count": 7,
   "metadata": {},
   "outputs": [],
   "source": [
    "modelSVC_o = SVC()\n",
    "modelRFC_o = RandomForestClassifier()\n",
    "modelKNC_o = KNeighborsClassifier()"
   ]
  },
  {
   "cell_type": "code",
   "execution_count": 8,
   "metadata": {},
   "outputs": [],
   "source": [
    "from sklearn.model_selection import GridSearchCV"
   ]
  },
  {
   "cell_type": "markdown",
   "metadata": {},
   "source": [
    "# Quick Validation"
   ]
  },
  {
   "cell_type": "code",
   "execution_count": 9,
   "metadata": {},
   "outputs": [
    {
     "data": {
      "text/html": [
       "<div>\n",
       "<style scoped>\n",
       "    .dataframe tbody tr th:only-of-type {\n",
       "        vertical-align: middle;\n",
       "    }\n",
       "\n",
       "    .dataframe tbody tr th {\n",
       "        vertical-align: top;\n",
       "    }\n",
       "\n",
       "    .dataframe thead th {\n",
       "        text-align: right;\n",
       "    }\n",
       "</style>\n",
       "<table border=\"1\" class=\"dataframe\">\n",
       "  <thead>\n",
       "    <tr style=\"text-align: right;\">\n",
       "      <th></th>\n",
       "      <th>Unnamed: 0</th>\n",
       "      <th>ID</th>\n",
       "      <th>LIMIT_BAL</th>\n",
       "      <th>SEX</th>\n",
       "      <th>EDUCATION</th>\n",
       "      <th>MARRIAGE</th>\n",
       "      <th>AGE</th>\n",
       "      <th>PAY_1</th>\n",
       "      <th>PAY_2</th>\n",
       "      <th>PAY_3</th>\n",
       "      <th>...</th>\n",
       "      <th>BILL_PCT_6</th>\n",
       "      <th>PAY_6MO_PCT_LIM</th>\n",
       "      <th>LIMIT_PER_AGE</th>\n",
       "      <th>BILL1_PCT_LIM</th>\n",
       "      <th>EDU_BUCK</th>\n",
       "      <th>SEX_BUCK</th>\n",
       "      <th>MAR_BUCK</th>\n",
       "      <th>def_word</th>\n",
       "      <th>AGE_BUCK</th>\n",
       "      <th>LIMIT_BAL_BUCK</th>\n",
       "    </tr>\n",
       "  </thead>\n",
       "  <tbody>\n",
       "    <tr>\n",
       "      <th>0</th>\n",
       "      <td>0</td>\n",
       "      <td>1</td>\n",
       "      <td>20000</td>\n",
       "      <td>2</td>\n",
       "      <td>2</td>\n",
       "      <td>1</td>\n",
       "      <td>24</td>\n",
       "      <td>2</td>\n",
       "      <td>2</td>\n",
       "      <td>-1</td>\n",
       "      <td>...</td>\n",
       "      <td>0.00</td>\n",
       "      <td>0.03</td>\n",
       "      <td>833.0</td>\n",
       "      <td>0.20</td>\n",
       "      <td>UNIV</td>\n",
       "      <td>FEML</td>\n",
       "      <td>MARR</td>\n",
       "      <td>DEFAULT</td>\n",
       "      <td>&lt;25</td>\n",
       "      <td>&lt;50K</td>\n",
       "    </tr>\n",
       "    <tr>\n",
       "      <th>1</th>\n",
       "      <td>1</td>\n",
       "      <td>2</td>\n",
       "      <td>120000</td>\n",
       "      <td>2</td>\n",
       "      <td>2</td>\n",
       "      <td>2</td>\n",
       "      <td>26</td>\n",
       "      <td>-1</td>\n",
       "      <td>2</td>\n",
       "      <td>0</td>\n",
       "      <td>...</td>\n",
       "      <td>0.03</td>\n",
       "      <td>0.04</td>\n",
       "      <td>4615.0</td>\n",
       "      <td>0.02</td>\n",
       "      <td>UNIV</td>\n",
       "      <td>FEML</td>\n",
       "      <td>SING</td>\n",
       "      <td>DEFAULT</td>\n",
       "      <td>&lt;30</td>\n",
       "      <td>&lt;200K</td>\n",
       "    </tr>\n",
       "    <tr>\n",
       "      <th>2</th>\n",
       "      <td>2</td>\n",
       "      <td>3</td>\n",
       "      <td>90000</td>\n",
       "      <td>2</td>\n",
       "      <td>2</td>\n",
       "      <td>2</td>\n",
       "      <td>34</td>\n",
       "      <td>0</td>\n",
       "      <td>0</td>\n",
       "      <td>0</td>\n",
       "      <td>...</td>\n",
       "      <td>0.17</td>\n",
       "      <td>0.12</td>\n",
       "      <td>2647.0</td>\n",
       "      <td>0.32</td>\n",
       "      <td>UNIV</td>\n",
       "      <td>FEML</td>\n",
       "      <td>SING</td>\n",
       "      <td>PAID</td>\n",
       "      <td>&lt;35</td>\n",
       "      <td>&lt;100K</td>\n",
       "    </tr>\n",
       "    <tr>\n",
       "      <th>3</th>\n",
       "      <td>3</td>\n",
       "      <td>4</td>\n",
       "      <td>50000</td>\n",
       "      <td>2</td>\n",
       "      <td>2</td>\n",
       "      <td>1</td>\n",
       "      <td>37</td>\n",
       "      <td>0</td>\n",
       "      <td>0</td>\n",
       "      <td>0</td>\n",
       "      <td>...</td>\n",
       "      <td>0.59</td>\n",
       "      <td>0.17</td>\n",
       "      <td>1351.0</td>\n",
       "      <td>0.94</td>\n",
       "      <td>UNIV</td>\n",
       "      <td>FEML</td>\n",
       "      <td>MARR</td>\n",
       "      <td>PAID</td>\n",
       "      <td>&lt;40</td>\n",
       "      <td>&lt;100K</td>\n",
       "    </tr>\n",
       "    <tr>\n",
       "      <th>4</th>\n",
       "      <td>4</td>\n",
       "      <td>5</td>\n",
       "      <td>50000</td>\n",
       "      <td>1</td>\n",
       "      <td>2</td>\n",
       "      <td>1</td>\n",
       "      <td>57</td>\n",
       "      <td>-1</td>\n",
       "      <td>0</td>\n",
       "      <td>-1</td>\n",
       "      <td>...</td>\n",
       "      <td>0.38</td>\n",
       "      <td>1.18</td>\n",
       "      <td>877.0</td>\n",
       "      <td>0.17</td>\n",
       "      <td>UNIV</td>\n",
       "      <td>MALE</td>\n",
       "      <td>MARR</td>\n",
       "      <td>PAID</td>\n",
       "      <td>50+</td>\n",
       "      <td>&lt;100K</td>\n",
       "    </tr>\n",
       "  </tbody>\n",
       "</table>\n",
       "<p>5 rows × 41 columns</p>\n",
       "</div>"
      ],
      "text/plain": [
       "   Unnamed: 0  ID  LIMIT_BAL  SEX  EDUCATION  MARRIAGE  AGE  PAY_1  PAY_2  \\\n",
       "0           0   1      20000    2          2         1   24      2      2   \n",
       "1           1   2     120000    2          2         2   26     -1      2   \n",
       "2           2   3      90000    2          2         2   34      0      0   \n",
       "3           3   4      50000    2          2         1   37      0      0   \n",
       "4           4   5      50000    1          2         1   57     -1      0   \n",
       "\n",
       "   PAY_3  ...  BILL_PCT_6  PAY_6MO_PCT_LIM  LIMIT_PER_AGE  BILL1_PCT_LIM  \\\n",
       "0     -1  ...        0.00             0.03          833.0           0.20   \n",
       "1      0  ...        0.03             0.04         4615.0           0.02   \n",
       "2      0  ...        0.17             0.12         2647.0           0.32   \n",
       "3      0  ...        0.59             0.17         1351.0           0.94   \n",
       "4     -1  ...        0.38             1.18          877.0           0.17   \n",
       "\n",
       "   EDU_BUCK  SEX_BUCK  MAR_BUCK  def_word  AGE_BUCK  LIMIT_BAL_BUCK  \n",
       "0      UNIV      FEML      MARR   DEFAULT       <25            <50K  \n",
       "1      UNIV      FEML      SING   DEFAULT       <30           <200K  \n",
       "2      UNIV      FEML      SING      PAID       <35           <100K  \n",
       "3      UNIV      FEML      MARR      PAID       <40           <100K  \n",
       "4      UNIV      MALE      MARR      PAID       50+           <100K  \n",
       "\n",
       "[5 rows x 41 columns]"
      ]
     },
     "execution_count": 9,
     "metadata": {},
     "output_type": "execute_result"
    }
   ],
   "source": [
    "pcf.head()"
   ]
  },
  {
   "cell_type": "code",
   "execution_count": 10,
   "metadata": {},
   "outputs": [
    {
     "data": {
      "text/plain": [
       "Index(['Unnamed: 0', 'ID', 'LIMIT_BAL', 'SEX', 'EDUCATION', 'MARRIAGE', 'AGE',\n",
       "       'PAY_1', 'PAY_2', 'PAY_3', 'PAY_4', 'PAY_5', 'PAY_6', 'BILL_AMT1',\n",
       "       'BILL_AMT2', 'BILL_AMT3', 'BILL_AMT4', 'BILL_AMT5', 'BILL_AMT6',\n",
       "       'PAY_AMT1', 'PAY_AMT2', 'PAY_AMT3', 'PAY_AMT4', 'PAY_AMT5', 'PAY_AMT6',\n",
       "       'default payment next month', 'BILL_PCT_1', 'BILL_PCT_2', 'BILL_PCT_3',\n",
       "       'BILL_PCT_4', 'BILL_PCT_5', 'BILL_PCT_6', 'PAY_6MO_PCT_LIM',\n",
       "       'LIMIT_PER_AGE', 'BILL1_PCT_LIM', 'EDU_BUCK', 'SEX_BUCK', 'MAR_BUCK',\n",
       "       'def_word', 'AGE_BUCK', 'LIMIT_BAL_BUCK'],\n",
       "      dtype='object')"
      ]
     },
     "execution_count": 10,
     "metadata": {},
     "output_type": "execute_result"
    }
   ],
   "source": [
    "pcf.columns"
   ]
  },
  {
   "cell_type": "markdown",
   "metadata": {},
   "source": [
    "### Analysis: \"Unnamed: 0\" is the row numbers from the output in C5T2... I will drop that column in building my test and training datasets.\n",
    "\n",
    "### The buckets/discretization we applied with C5T2 will need to be dropped or converted to dummy variables in our classification analysis. For now I will not include them in my classification test modeling."
   ]
  },
  {
   "cell_type": "markdown",
   "metadata": {},
   "source": [
    "# BASE - Creating Training and Test Datasets"
   ]
  },
  {
   "cell_type": "markdown",
   "metadata": {},
   "source": [
    "## BASE - Defining Features and Dependent Variable"
   ]
  },
  {
   "cell_type": "code",
   "execution_count": 11,
   "metadata": {},
   "outputs": [],
   "source": [
    "depVar = pcf['default payment next month']"
   ]
  },
  {
   "cell_type": "markdown",
   "metadata": {},
   "source": [
    "### Point of View for Feature Selection\n",
    "- Initial dataset will include only original columns (no feature engineering)\n",
    "- Excludes discritization - will need to use dummy variables for that\n",
    "- Will include columns from Task 2 that were determined to be highly correlated"
   ]
  },
  {
   "cell_type": "code",
   "execution_count": 12,
   "metadata": {},
   "outputs": [],
   "source": [
    "features = pcf.iloc[:,2:25]"
   ]
  },
  {
   "cell_type": "code",
   "execution_count": 13,
   "metadata": {},
   "outputs": [],
   "source": [
    "test_size = .3\n",
    "seed = 40\n",
    "X_train, X_test, Y_train, Y_test = train_test_split(features, depVar, test_size=test_size, random_state=seed)"
   ]
  },
  {
   "cell_type": "code",
   "execution_count": 14,
   "metadata": {},
   "outputs": [
    {
     "name": "stdout",
     "output_type": "stream",
     "text": [
      "The number of observations in the X Training set are: 21000\n"
     ]
    },
    {
     "data": {
      "text/html": [
       "<div>\n",
       "<style scoped>\n",
       "    .dataframe tbody tr th:only-of-type {\n",
       "        vertical-align: middle;\n",
       "    }\n",
       "\n",
       "    .dataframe tbody tr th {\n",
       "        vertical-align: top;\n",
       "    }\n",
       "\n",
       "    .dataframe thead th {\n",
       "        text-align: right;\n",
       "    }\n",
       "</style>\n",
       "<table border=\"1\" class=\"dataframe\">\n",
       "  <thead>\n",
       "    <tr style=\"text-align: right;\">\n",
       "      <th></th>\n",
       "      <th>LIMIT_BAL</th>\n",
       "      <th>SEX</th>\n",
       "      <th>EDUCATION</th>\n",
       "      <th>MARRIAGE</th>\n",
       "      <th>AGE</th>\n",
       "      <th>PAY_1</th>\n",
       "      <th>PAY_2</th>\n",
       "      <th>PAY_3</th>\n",
       "      <th>PAY_4</th>\n",
       "      <th>PAY_5</th>\n",
       "      <th>...</th>\n",
       "      <th>BILL_AMT3</th>\n",
       "      <th>BILL_AMT4</th>\n",
       "      <th>BILL_AMT5</th>\n",
       "      <th>BILL_AMT6</th>\n",
       "      <th>PAY_AMT1</th>\n",
       "      <th>PAY_AMT2</th>\n",
       "      <th>PAY_AMT3</th>\n",
       "      <th>PAY_AMT4</th>\n",
       "      <th>PAY_AMT5</th>\n",
       "      <th>PAY_AMT6</th>\n",
       "    </tr>\n",
       "  </thead>\n",
       "  <tbody>\n",
       "    <tr>\n",
       "      <th>14632</th>\n",
       "      <td>20000</td>\n",
       "      <td>1</td>\n",
       "      <td>3</td>\n",
       "      <td>2</td>\n",
       "      <td>35</td>\n",
       "      <td>0</td>\n",
       "      <td>0</td>\n",
       "      <td>0</td>\n",
       "      <td>0</td>\n",
       "      <td>0</td>\n",
       "      <td>...</td>\n",
       "      <td>20269</td>\n",
       "      <td>18654</td>\n",
       "      <td>18914</td>\n",
       "      <td>20200</td>\n",
       "      <td>2618</td>\n",
       "      <td>2276</td>\n",
       "      <td>791</td>\n",
       "      <td>686</td>\n",
       "      <td>1600</td>\n",
       "      <td>0</td>\n",
       "    </tr>\n",
       "    <tr>\n",
       "      <th>5372</th>\n",
       "      <td>270000</td>\n",
       "      <td>1</td>\n",
       "      <td>2</td>\n",
       "      <td>2</td>\n",
       "      <td>29</td>\n",
       "      <td>0</td>\n",
       "      <td>0</td>\n",
       "      <td>0</td>\n",
       "      <td>0</td>\n",
       "      <td>-1</td>\n",
       "      <td>...</td>\n",
       "      <td>17555</td>\n",
       "      <td>17803</td>\n",
       "      <td>1852</td>\n",
       "      <td>2044</td>\n",
       "      <td>3022</td>\n",
       "      <td>1000</td>\n",
       "      <td>2054</td>\n",
       "      <td>1857</td>\n",
       "      <td>2069</td>\n",
       "      <td>6327</td>\n",
       "    </tr>\n",
       "    <tr>\n",
       "      <th>8154</th>\n",
       "      <td>80000</td>\n",
       "      <td>1</td>\n",
       "      <td>2</td>\n",
       "      <td>2</td>\n",
       "      <td>30</td>\n",
       "      <td>0</td>\n",
       "      <td>0</td>\n",
       "      <td>0</td>\n",
       "      <td>-2</td>\n",
       "      <td>-2</td>\n",
       "      <td>...</td>\n",
       "      <td>0</td>\n",
       "      <td>0</td>\n",
       "      <td>0</td>\n",
       "      <td>0</td>\n",
       "      <td>3750</td>\n",
       "      <td>0</td>\n",
       "      <td>0</td>\n",
       "      <td>0</td>\n",
       "      <td>0</td>\n",
       "      <td>0</td>\n",
       "    </tr>\n",
       "    <tr>\n",
       "      <th>6468</th>\n",
       "      <td>340000</td>\n",
       "      <td>2</td>\n",
       "      <td>5</td>\n",
       "      <td>1</td>\n",
       "      <td>27</td>\n",
       "      <td>0</td>\n",
       "      <td>0</td>\n",
       "      <td>0</td>\n",
       "      <td>0</td>\n",
       "      <td>0</td>\n",
       "      <td>...</td>\n",
       "      <td>282231</td>\n",
       "      <td>216946</td>\n",
       "      <td>216403</td>\n",
       "      <td>218209</td>\n",
       "      <td>11000</td>\n",
       "      <td>11031</td>\n",
       "      <td>8000</td>\n",
       "      <td>8000</td>\n",
       "      <td>8300</td>\n",
       "      <td>7500</td>\n",
       "    </tr>\n",
       "    <tr>\n",
       "      <th>10581</th>\n",
       "      <td>90000</td>\n",
       "      <td>2</td>\n",
       "      <td>1</td>\n",
       "      <td>2</td>\n",
       "      <td>24</td>\n",
       "      <td>0</td>\n",
       "      <td>0</td>\n",
       "      <td>0</td>\n",
       "      <td>0</td>\n",
       "      <td>0</td>\n",
       "      <td>...</td>\n",
       "      <td>90370</td>\n",
       "      <td>26420</td>\n",
       "      <td>27398</td>\n",
       "      <td>28295</td>\n",
       "      <td>4054</td>\n",
       "      <td>4444</td>\n",
       "      <td>1420</td>\n",
       "      <td>1398</td>\n",
       "      <td>1345</td>\n",
       "      <td>3265</td>\n",
       "    </tr>\n",
       "  </tbody>\n",
       "</table>\n",
       "<p>5 rows × 23 columns</p>\n",
       "</div>"
      ],
      "text/plain": [
       "       LIMIT_BAL  SEX  EDUCATION  MARRIAGE  AGE  PAY_1  PAY_2  PAY_3  PAY_4  \\\n",
       "14632      20000    1          3         2   35      0      0      0      0   \n",
       "5372      270000    1          2         2   29      0      0      0      0   \n",
       "8154       80000    1          2         2   30      0      0      0     -2   \n",
       "6468      340000    2          5         1   27      0      0      0      0   \n",
       "10581      90000    2          1         2   24      0      0      0      0   \n",
       "\n",
       "       PAY_5  ...  BILL_AMT3  BILL_AMT4  BILL_AMT5  BILL_AMT6  PAY_AMT1  \\\n",
       "14632      0  ...      20269      18654      18914      20200      2618   \n",
       "5372      -1  ...      17555      17803       1852       2044      3022   \n",
       "8154      -2  ...          0          0          0          0      3750   \n",
       "6468       0  ...     282231     216946     216403     218209     11000   \n",
       "10581      0  ...      90370      26420      27398      28295      4054   \n",
       "\n",
       "       PAY_AMT2  PAY_AMT3  PAY_AMT4  PAY_AMT5  PAY_AMT6  \n",
       "14632      2276       791       686      1600         0  \n",
       "5372       1000      2054      1857      2069      6327  \n",
       "8154          0         0         0         0         0  \n",
       "6468      11031      8000      8000      8300      7500  \n",
       "10581      4444      1420      1398      1345      3265  \n",
       "\n",
       "[5 rows x 23 columns]"
      ]
     },
     "execution_count": 14,
     "metadata": {},
     "output_type": "execute_result"
    }
   ],
   "source": [
    "#Independent Variable Training Set (X Training)\n",
    "X_train_count = len(X_train.index)\n",
    "print('The number of observations in the X Training set are:',str(X_train_count))\n",
    "X_train.head()"
   ]
  },
  {
   "cell_type": "code",
   "execution_count": 15,
   "metadata": {},
   "outputs": [
    {
     "name": "stdout",
     "output_type": "stream",
     "text": [
      "The number of observations in the Y training set are: 21000\n"
     ]
    },
    {
     "data": {
      "text/plain": [
       "14632    0\n",
       "5372     0\n",
       "8154     0\n",
       "6468     0\n",
       "10581    0\n",
       "Name: default payment next month, dtype: int64"
      ]
     },
     "execution_count": 15,
     "metadata": {},
     "output_type": "execute_result"
    }
   ],
   "source": [
    "#Dependent Variable Training Set (Y Training)\n",
    "Y_train_count = len(Y_train.index)\n",
    "print('The number of observations in the Y training set are:',str(Y_train_count))\n",
    "Y_train.head()"
   ]
  },
  {
   "cell_type": "code",
   "execution_count": 16,
   "metadata": {},
   "outputs": [
    {
     "name": "stdout",
     "output_type": "stream",
     "text": [
      "The number of observations in the X Training set are: 9000\n"
     ]
    },
    {
     "data": {
      "text/html": [
       "<div>\n",
       "<style scoped>\n",
       "    .dataframe tbody tr th:only-of-type {\n",
       "        vertical-align: middle;\n",
       "    }\n",
       "\n",
       "    .dataframe tbody tr th {\n",
       "        vertical-align: top;\n",
       "    }\n",
       "\n",
       "    .dataframe thead th {\n",
       "        text-align: right;\n",
       "    }\n",
       "</style>\n",
       "<table border=\"1\" class=\"dataframe\">\n",
       "  <thead>\n",
       "    <tr style=\"text-align: right;\">\n",
       "      <th></th>\n",
       "      <th>LIMIT_BAL</th>\n",
       "      <th>SEX</th>\n",
       "      <th>EDUCATION</th>\n",
       "      <th>MARRIAGE</th>\n",
       "      <th>AGE</th>\n",
       "      <th>PAY_1</th>\n",
       "      <th>PAY_2</th>\n",
       "      <th>PAY_3</th>\n",
       "      <th>PAY_4</th>\n",
       "      <th>PAY_5</th>\n",
       "      <th>...</th>\n",
       "      <th>BILL_AMT3</th>\n",
       "      <th>BILL_AMT4</th>\n",
       "      <th>BILL_AMT5</th>\n",
       "      <th>BILL_AMT6</th>\n",
       "      <th>PAY_AMT1</th>\n",
       "      <th>PAY_AMT2</th>\n",
       "      <th>PAY_AMT3</th>\n",
       "      <th>PAY_AMT4</th>\n",
       "      <th>PAY_AMT5</th>\n",
       "      <th>PAY_AMT6</th>\n",
       "    </tr>\n",
       "  </thead>\n",
       "  <tbody>\n",
       "    <tr>\n",
       "      <th>28478</th>\n",
       "      <td>100000</td>\n",
       "      <td>2</td>\n",
       "      <td>2</td>\n",
       "      <td>2</td>\n",
       "      <td>35</td>\n",
       "      <td>-1</td>\n",
       "      <td>-1</td>\n",
       "      <td>-1</td>\n",
       "      <td>-1</td>\n",
       "      <td>-1</td>\n",
       "      <td>...</td>\n",
       "      <td>326</td>\n",
       "      <td>326</td>\n",
       "      <td>652</td>\n",
       "      <td>326</td>\n",
       "      <td>2691</td>\n",
       "      <td>326</td>\n",
       "      <td>326</td>\n",
       "      <td>652</td>\n",
       "      <td>0</td>\n",
       "      <td>326</td>\n",
       "    </tr>\n",
       "    <tr>\n",
       "      <th>3956</th>\n",
       "      <td>380000</td>\n",
       "      <td>1</td>\n",
       "      <td>1</td>\n",
       "      <td>2</td>\n",
       "      <td>33</td>\n",
       "      <td>0</td>\n",
       "      <td>0</td>\n",
       "      <td>0</td>\n",
       "      <td>0</td>\n",
       "      <td>0</td>\n",
       "      <td>...</td>\n",
       "      <td>80080</td>\n",
       "      <td>81162</td>\n",
       "      <td>89571</td>\n",
       "      <td>96627</td>\n",
       "      <td>10000</td>\n",
       "      <td>5000</td>\n",
       "      <td>5000</td>\n",
       "      <td>10000</td>\n",
       "      <td>10000</td>\n",
       "      <td>10000</td>\n",
       "    </tr>\n",
       "    <tr>\n",
       "      <th>7014</th>\n",
       "      <td>150000</td>\n",
       "      <td>2</td>\n",
       "      <td>2</td>\n",
       "      <td>2</td>\n",
       "      <td>41</td>\n",
       "      <td>-1</td>\n",
       "      <td>-1</td>\n",
       "      <td>-1</td>\n",
       "      <td>0</td>\n",
       "      <td>-1</td>\n",
       "      <td>...</td>\n",
       "      <td>1995</td>\n",
       "      <td>285</td>\n",
       "      <td>4926</td>\n",
       "      <td>5523</td>\n",
       "      <td>40824</td>\n",
       "      <td>2340</td>\n",
       "      <td>0</td>\n",
       "      <td>4970</td>\n",
       "      <td>5527</td>\n",
       "      <td>903</td>\n",
       "    </tr>\n",
       "    <tr>\n",
       "      <th>18659</th>\n",
       "      <td>50000</td>\n",
       "      <td>2</td>\n",
       "      <td>2</td>\n",
       "      <td>1</td>\n",
       "      <td>22</td>\n",
       "      <td>0</td>\n",
       "      <td>0</td>\n",
       "      <td>2</td>\n",
       "      <td>0</td>\n",
       "      <td>0</td>\n",
       "      <td>...</td>\n",
       "      <td>26570</td>\n",
       "      <td>28085</td>\n",
       "      <td>27009</td>\n",
       "      <td>28142</td>\n",
       "      <td>2134</td>\n",
       "      <td>1000</td>\n",
       "      <td>2001</td>\n",
       "      <td>910</td>\n",
       "      <td>1510</td>\n",
       "      <td>500</td>\n",
       "    </tr>\n",
       "    <tr>\n",
       "      <th>15274</th>\n",
       "      <td>170000</td>\n",
       "      <td>2</td>\n",
       "      <td>3</td>\n",
       "      <td>2</td>\n",
       "      <td>29</td>\n",
       "      <td>0</td>\n",
       "      <td>0</td>\n",
       "      <td>0</td>\n",
       "      <td>0</td>\n",
       "      <td>0</td>\n",
       "      <td>...</td>\n",
       "      <td>119050</td>\n",
       "      <td>120225</td>\n",
       "      <td>122345</td>\n",
       "      <td>124302</td>\n",
       "      <td>4200</td>\n",
       "      <td>4300</td>\n",
       "      <td>4400</td>\n",
       "      <td>4518</td>\n",
       "      <td>4500</td>\n",
       "      <td>5000</td>\n",
       "    </tr>\n",
       "  </tbody>\n",
       "</table>\n",
       "<p>5 rows × 23 columns</p>\n",
       "</div>"
      ],
      "text/plain": [
       "       LIMIT_BAL  SEX  EDUCATION  MARRIAGE  AGE  PAY_1  PAY_2  PAY_3  PAY_4  \\\n",
       "28478     100000    2          2         2   35     -1     -1     -1     -1   \n",
       "3956      380000    1          1         2   33      0      0      0      0   \n",
       "7014      150000    2          2         2   41     -1     -1     -1      0   \n",
       "18659      50000    2          2         1   22      0      0      2      0   \n",
       "15274     170000    2          3         2   29      0      0      0      0   \n",
       "\n",
       "       PAY_5  ...  BILL_AMT3  BILL_AMT4  BILL_AMT5  BILL_AMT6  PAY_AMT1  \\\n",
       "28478     -1  ...        326        326        652        326      2691   \n",
       "3956       0  ...      80080      81162      89571      96627     10000   \n",
       "7014      -1  ...       1995        285       4926       5523     40824   \n",
       "18659      0  ...      26570      28085      27009      28142      2134   \n",
       "15274      0  ...     119050     120225     122345     124302      4200   \n",
       "\n",
       "       PAY_AMT2  PAY_AMT3  PAY_AMT4  PAY_AMT5  PAY_AMT6  \n",
       "28478       326       326       652         0       326  \n",
       "3956       5000      5000     10000     10000     10000  \n",
       "7014       2340         0      4970      5527       903  \n",
       "18659      1000      2001       910      1510       500  \n",
       "15274      4300      4400      4518      4500      5000  \n",
       "\n",
       "[5 rows x 23 columns]"
      ]
     },
     "execution_count": 16,
     "metadata": {},
     "output_type": "execute_result"
    }
   ],
   "source": [
    "#Independent Variable Test Set (X Test)\n",
    "X_test_count = len(X_test.index)\n",
    "print('The number of observations in the X Training set are:',str(X_test_count))\n",
    "X_test.head()"
   ]
  },
  {
   "cell_type": "code",
   "execution_count": 17,
   "metadata": {},
   "outputs": [
    {
     "name": "stdout",
     "output_type": "stream",
     "text": [
      "The number of observations in the Y Test set are: 9000\n"
     ]
    },
    {
     "data": {
      "text/plain": [
       "28478    1\n",
       "3956     0\n",
       "7014     0\n",
       "18659    0\n",
       "15274    1\n",
       "Name: default payment next month, dtype: int64"
      ]
     },
     "execution_count": 17,
     "metadata": {},
     "output_type": "execute_result"
    }
   ],
   "source": [
    "#Dependent Variable Testing Set (Y Test)\n",
    "Y_test_count = len(Y_test.index)\n",
    "print('The number of observations in the Y Test set are:',str(Y_test_count))\n",
    "Y_test.head()"
   ]
  },
  {
   "cell_type": "markdown",
   "metadata": {},
   "source": [
    "# BASE - Initial Modeling"
   ]
  },
  {
   "cell_type": "markdown",
   "metadata": {},
   "source": [
    "## SVM Classification"
   ]
  },
  {
   "cell_type": "code",
   "execution_count": 18,
   "metadata": {},
   "outputs": [
    {
     "name": "stderr",
     "output_type": "stream",
     "text": [
      "/Users/Andrew/anaconda3/lib/python3.7/site-packages/sklearn/svm/base.py:196: FutureWarning: The default value of gamma will change from 'auto' to 'scale' in version 0.22 to account better for unscaled features. Set gamma explicitly to 'auto' or 'scale' to avoid this warning.\n",
      "  \"avoid this warning.\", FutureWarning)\n",
      "/Users/Andrew/anaconda3/lib/python3.7/site-packages/sklearn/model_selection/_split.py:2053: FutureWarning: You should specify a value for 'cv' instead of relying on the default value. The default value will change from 3 to 5 in version 0.22.\n",
      "  warnings.warn(CV_WARNING, FutureWarning)\n",
      "/Users/Andrew/anaconda3/lib/python3.7/site-packages/sklearn/svm/base.py:196: FutureWarning: The default value of gamma will change from 'auto' to 'scale' in version 0.22 to account better for unscaled features. Set gamma explicitly to 'auto' or 'scale' to avoid this warning.\n",
      "  \"avoid this warning.\", FutureWarning)\n",
      "/Users/Andrew/anaconda3/lib/python3.7/site-packages/sklearn/svm/base.py:196: FutureWarning: The default value of gamma will change from 'auto' to 'scale' in version 0.22 to account better for unscaled features. Set gamma explicitly to 'auto' or 'scale' to avoid this warning.\n",
      "  \"avoid this warning.\", FutureWarning)\n",
      "/Users/Andrew/anaconda3/lib/python3.7/site-packages/sklearn/svm/base.py:196: FutureWarning: The default value of gamma will change from 'auto' to 'scale' in version 0.22 to account better for unscaled features. Set gamma explicitly to 'auto' or 'scale' to avoid this warning.\n",
      "  \"avoid this warning.\", FutureWarning)\n"
     ]
    },
    {
     "name": "stdout",
     "output_type": "stream",
     "text": [
      "[0.77903157 0.77814286 0.77839691]\n"
     ]
    },
    {
     "data": {
      "text/plain": [
       "0.9938571428571429"
      ]
     },
     "execution_count": 18,
     "metadata": {},
     "output_type": "execute_result"
    }
   ],
   "source": [
    "#Model Fitting\n",
    "modelSVC.fit(X_train,Y_train)\n",
    "print(cross_val_score(modelSVC, X_train, Y_train))\n",
    "modelSVC.score(X_train,Y_train)"
   ]
  },
  {
   "cell_type": "markdown",
   "metadata": {},
   "source": [
    "### Including Cross Validation"
   ]
  },
  {
   "cell_type": "code",
   "execution_count": 19,
   "metadata": {
    "scrolled": true
   },
   "outputs": [
    {
     "name": "stderr",
     "output_type": "stream",
     "text": [
      "/Users/Andrew/anaconda3/lib/python3.7/site-packages/sklearn/svm/base.py:196: FutureWarning: The default value of gamma will change from 'auto' to 'scale' in version 0.22 to account better for unscaled features. Set gamma explicitly to 'auto' or 'scale' to avoid this warning.\n",
      "  \"avoid this warning.\", FutureWarning)\n",
      "/Users/Andrew/anaconda3/lib/python3.7/site-packages/sklearn/model_selection/_split.py:2053: FutureWarning: You should specify a value for 'cv' instead of relying on the default value. The default value will change from 3 to 5 in version 0.22.\n",
      "  warnings.warn(CV_WARNING, FutureWarning)\n",
      "/Users/Andrew/anaconda3/lib/python3.7/site-packages/sklearn/svm/base.py:196: FutureWarning: The default value of gamma will change from 'auto' to 'scale' in version 0.22 to account better for unscaled features. Set gamma explicitly to 'auto' or 'scale' to avoid this warning.\n",
      "  \"avoid this warning.\", FutureWarning)\n",
      "/Users/Andrew/anaconda3/lib/python3.7/site-packages/sklearn/svm/base.py:196: FutureWarning: The default value of gamma will change from 'auto' to 'scale' in version 0.22 to account better for unscaled features. Set gamma explicitly to 'auto' or 'scale' to avoid this warning.\n",
      "  \"avoid this warning.\", FutureWarning)\n",
      "/Users/Andrew/anaconda3/lib/python3.7/site-packages/sklearn/svm/base.py:196: FutureWarning: The default value of gamma will change from 'auto' to 'scale' in version 0.22 to account better for unscaled features. Set gamma explicitly to 'auto' or 'scale' to avoid this warning.\n",
      "  \"avoid this warning.\", FutureWarning)\n"
     ]
    },
    {
     "name": "stdout",
     "output_type": "stream",
     "text": [
      "[0.77903157 0.77814286 0.77839691]\n",
      "Train kappa: 0.98\n",
      "Train Accuracy: 0.99\n"
     ]
    }
   ],
   "source": [
    "#Model Fitting\n",
    "modelSVC.fit(X_train,Y_train)\n",
    "predSVC=modelSVC.predict(X_train)\n",
    "print(cross_val_score(modelSVC, X_train, Y_train))\n",
    "print('Train kappa: %.2f' \n",
    "% cohen_kappa_score(y1=Y_train, y2=predSVC))\n",
    "print('Train Accuracy: %.2f' \n",
    "% accuracy_score(y_true=Y_train, y_pred=predSVC))"
   ]
  },
  {
   "cell_type": "markdown",
   "metadata": {},
   "source": [
    "### Testing"
   ]
  },
  {
   "cell_type": "code",
   "execution_count": 20,
   "metadata": {},
   "outputs": [
    {
     "name": "stdout",
     "output_type": "stream",
     "text": [
      "Test kappa: 0.02\n",
      "Test Accuracy: 0.78\n"
     ]
    }
   ],
   "source": [
    "predSVC_test=modelSVC.predict(X_test)\n",
    "print('Test kappa: %.2f' \n",
    "% cohen_kappa_score(y1=Y_test, y2=predSVC_test))\n",
    "print('Test Accuracy: %.2f' \n",
    "% accuracy_score(y_true=Y_test, y_pred=predSVC_test))"
   ]
  },
  {
   "cell_type": "markdown",
   "metadata": {},
   "source": [
    "## Random Forest Classification"
   ]
  },
  {
   "cell_type": "code",
   "execution_count": 21,
   "metadata": {},
   "outputs": [
    {
     "name": "stderr",
     "output_type": "stream",
     "text": [
      "/Users/Andrew/anaconda3/lib/python3.7/site-packages/sklearn/ensemble/forest.py:246: FutureWarning: The default value of n_estimators will change from 10 in version 0.20 to 100 in 0.22.\n",
      "  \"10 in version 0.20 to 100 in 0.22.\", FutureWarning)\n",
      "/Users/Andrew/anaconda3/lib/python3.7/site-packages/sklearn/model_selection/_split.py:2053: FutureWarning: You should specify a value for 'cv' instead of relying on the default value. The default value will change from 3 to 5 in version 0.22.\n",
      "  warnings.warn(CV_WARNING, FutureWarning)\n"
     ]
    },
    {
     "name": "stdout",
     "output_type": "stream",
     "text": [
      "[0.80159977 0.79642857 0.80168596]\n",
      "Train kappa: 0.94\n",
      "Train Accuracy: 0.98\n"
     ]
    }
   ],
   "source": [
    "#Model Fitting\n",
    "modelRFC.fit(X_train,Y_train)\n",
    "predRFC=modelRFC.predict(X_train)\n",
    "print(cross_val_score(modelRFC, X_train, Y_train))\n",
    "print('Train kappa: %.2f' \n",
    "% cohen_kappa_score(y1=Y_train, y2=predRFC))\n",
    "print('Train Accuracy: %.2f' \n",
    "% accuracy_score(y_true=Y_train, y_pred=predRFC))"
   ]
  },
  {
   "cell_type": "markdown",
   "metadata": {},
   "source": [
    "### Testing"
   ]
  },
  {
   "cell_type": "code",
   "execution_count": 22,
   "metadata": {},
   "outputs": [
    {
     "name": "stdout",
     "output_type": "stream",
     "text": [
      "Test kappa: 0.34\n",
      "Test Accuracy: 0.81\n"
     ]
    }
   ],
   "source": [
    "predRFC_test=modelRFC.predict(X_test)\n",
    "print('Test kappa: %.2f' \n",
    "% cohen_kappa_score(y1=Y_test, y2=predRFC_test))\n",
    "print('Test Accuracy: %.2f' \n",
    "% accuracy_score(y_true=Y_test, y_pred=predRFC_test))"
   ]
  },
  {
   "cell_type": "markdown",
   "metadata": {},
   "source": [
    "## KNN Classification"
   ]
  },
  {
   "cell_type": "code",
   "execution_count": 23,
   "metadata": {},
   "outputs": [
    {
     "name": "stderr",
     "output_type": "stream",
     "text": [
      "/Users/Andrew/anaconda3/lib/python3.7/site-packages/sklearn/model_selection/_split.py:2053: FutureWarning: You should specify a value for 'cv' instead of relying on the default value. The default value will change from 3 to 5 in version 0.22.\n",
      "  warnings.warn(CV_WARNING, FutureWarning)\n"
     ]
    },
    {
     "name": "stdout",
     "output_type": "stream",
     "text": [
      "[0.74917869 0.753      0.75410773]\n",
      "Train kappa: 0.35\n",
      "Train Accuracy: 0.82\n"
     ]
    }
   ],
   "source": [
    "#Model Fitting\n",
    "modelKNC.fit(X_train,Y_train)\n",
    "predKNC=modelKNC.predict(X_train)\n",
    "print(cross_val_score(modelKNC, X_train, Y_train))\n",
    "print('Train kappa: %.2f' \n",
    "% cohen_kappa_score(y1=Y_train, y2=predKNC))\n",
    "print('Train Accuracy: %.2f' \n",
    "% accuracy_score(y_true=Y_train, y_pred=predKNC))"
   ]
  },
  {
   "cell_type": "code",
   "execution_count": 24,
   "metadata": {},
   "outputs": [
    {
     "name": "stdout",
     "output_type": "stream",
     "text": [
      "Test kappa: 0.13\n",
      "Test Accuracy: 0.76\n"
     ]
    }
   ],
   "source": [
    "predKNC_test=modelKNC.predict(X_test)\n",
    "print('Test kappa: %.2f' \n",
    "% cohen_kappa_score(y1=Y_test, y2=predKNC_test))\n",
    "print('Test Accuracy: %.2f' \n",
    "% accuracy_score(y_true=Y_test, y_pred=predKNC_test))"
   ]
  },
  {
   "cell_type": "markdown",
   "metadata": {},
   "source": [
    "# Initial Model Assessment"
   ]
  },
  {
   "cell_type": "markdown",
   "metadata": {},
   "source": [
    "### Training Results\n",
    "* KNN did not perform well.\n",
    "* Both RF and SVM performed exceptionally (too) well. Likely need to remove some features.\n",
    "\n",
    "### Testing Results\n",
    "* RF performed the best, with moderate kappa score and 82% accuracy\n"
   ]
  },
  {
   "cell_type": "markdown",
   "metadata": {},
   "source": [
    "# OPTIMIZED -  In Depth Modeling\n",
    "Need to:\n",
    "* Change features selected, include engineered fields\n",
    "* Remove field identified in Task 2 that were highly correlated\n",
    "* Apply One-Hot encoding for discritization (Age, Education, etc)\n",
    "* Tune model parameters"
   ]
  },
  {
   "cell_type": "markdown",
   "metadata": {},
   "source": [
    "# OPTIMIZED - Creating Training and Test Datasets"
   ]
  },
  {
   "cell_type": "markdown",
   "metadata": {},
   "source": [
    "## OPTIMIZED - Defining Features and Dependent Variable"
   ]
  },
  {
   "cell_type": "code",
   "execution_count": 25,
   "metadata": {},
   "outputs": [
    {
     "name": "stdout",
     "output_type": "stream",
     "text": [
      "<class 'pandas.core.frame.DataFrame'>\n",
      "RangeIndex: 30000 entries, 0 to 29999\n",
      "Data columns (total 41 columns):\n",
      "Unnamed: 0                    30000 non-null int64\n",
      "ID                            30000 non-null int64\n",
      "LIMIT_BAL                     30000 non-null int64\n",
      "SEX                           30000 non-null int64\n",
      "EDUCATION                     30000 non-null int64\n",
      "MARRIAGE                      30000 non-null int64\n",
      "AGE                           30000 non-null int64\n",
      "PAY_1                         30000 non-null int64\n",
      "PAY_2                         30000 non-null int64\n",
      "PAY_3                         30000 non-null int64\n",
      "PAY_4                         30000 non-null int64\n",
      "PAY_5                         30000 non-null int64\n",
      "PAY_6                         30000 non-null int64\n",
      "BILL_AMT1                     30000 non-null int64\n",
      "BILL_AMT2                     30000 non-null int64\n",
      "BILL_AMT3                     30000 non-null int64\n",
      "BILL_AMT4                     30000 non-null int64\n",
      "BILL_AMT5                     30000 non-null int64\n",
      "BILL_AMT6                     30000 non-null int64\n",
      "PAY_AMT1                      30000 non-null int64\n",
      "PAY_AMT2                      30000 non-null int64\n",
      "PAY_AMT3                      30000 non-null int64\n",
      "PAY_AMT4                      30000 non-null int64\n",
      "PAY_AMT5                      30000 non-null int64\n",
      "PAY_AMT6                      30000 non-null int64\n",
      "default payment next month    30000 non-null int64\n",
      "BILL_PCT_1                    30000 non-null float64\n",
      "BILL_PCT_2                    30000 non-null float64\n",
      "BILL_PCT_3                    30000 non-null float64\n",
      "BILL_PCT_4                    30000 non-null float64\n",
      "BILL_PCT_5                    30000 non-null float64\n",
      "BILL_PCT_6                    30000 non-null float64\n",
      "PAY_6MO_PCT_LIM               30000 non-null float64\n",
      "LIMIT_PER_AGE                 30000 non-null float64\n",
      "BILL1_PCT_LIM                 30000 non-null float64\n",
      "EDU_BUCK                      30000 non-null object\n",
      "SEX_BUCK                      30000 non-null object\n",
      "MAR_BUCK                      30000 non-null object\n",
      "def_word                      30000 non-null object\n",
      "AGE_BUCK                      30000 non-null object\n",
      "LIMIT_BAL_BUCK                30000 non-null object\n",
      "dtypes: float64(9), int64(26), object(6)\n",
      "memory usage: 9.4+ MB\n"
     ]
    }
   ],
   "source": [
    "pcf.info()"
   ]
  },
  {
   "cell_type": "markdown",
   "metadata": {},
   "source": [
    "# Question - Can only payment history and basic demographic info predict default?"
   ]
  },
  {
   "cell_type": "code",
   "execution_count": 29,
   "metadata": {},
   "outputs": [],
   "source": [
    "pcf_o = pcf.drop('LIMIT_PER_AGE',1)\n",
    "pcf_o = pcf_o.drop('BILL_AMT1',1)\n",
    "pcf_o = pcf_o.drop('BILL_AMT2',1)\n",
    "pcf_o = pcf_o.drop('BILL_AMT3',1)\n",
    "pcf_o = pcf_o.drop('BILL_AMT4',1)\n",
    "pcf_o = pcf_o.drop('BILL_AMT5',1)\n",
    "pcf_o = pcf_o.drop('BILL_AMT6',1)\n",
    "pcf_o = pcf_o.drop('BILL_PCT_1',1)\n",
    "pcf_o = pcf_o.drop('BILL_PCT_2',1)\n",
    "pcf_o = pcf_o.drop('BILL_PCT_3',1)\n",
    "pcf_o = pcf_o.drop('BILL_PCT_4',1)\n",
    "pcf_o = pcf_o.drop('BILL_PCT_5',1)\n",
    "pcf_o = pcf_o.drop('BILL_PCT_6',1)\n",
    "pcf_o = pcf_o.drop('PAY_AMT1',1)\n",
    "pcf_o = pcf_o.drop('PAY_AMT2',1)\n",
    "pcf_o = pcf_o.drop('PAY_AMT3',1)\n",
    "pcf_o = pcf_o.drop('PAY_AMT4',1)\n",
    "pcf_o = pcf_o.drop('PAY_AMT5',1)\n",
    "pcf_o = pcf_o.drop('PAY_AMT6',1)\n",
    "pcf_o = pcf_o.drop('BILL1_PCT_LIM',1)\n",
    "pcf_o = pcf_o.drop('LIMIT_BAL',1)\n",
    "pcf_o = pcf_o.drop('SEX',1)\n",
    "pcf_o = pcf_o.drop('AGE',1)\n",
    "pcf_o = pcf_o.drop('MARRIAGE',1)\n",
    "pcf_o = pcf_o.drop('EDUCATION',1)\n",
    "pcf_o = pcf_o.drop('Unnamed: 0',1)\n",
    "pcf_o = pcf_o.drop('ID',1)\n",
    "pcf_o = pcf_o.drop('def_word',1)\n",
    "pcf_o = pcf_o.drop('PAY_6MO_PCT_LIM',1)"
   ]
  },
  {
   "cell_type": "code",
   "execution_count": 30,
   "metadata": {},
   "outputs": [
    {
     "name": "stdout",
     "output_type": "stream",
     "text": [
      "<class 'pandas.core.frame.DataFrame'>\n",
      "RangeIndex: 30000 entries, 0 to 29999\n",
      "Data columns (total 12 columns):\n",
      "PAY_1                         30000 non-null int64\n",
      "PAY_2                         30000 non-null int64\n",
      "PAY_3                         30000 non-null int64\n",
      "PAY_4                         30000 non-null int64\n",
      "PAY_5                         30000 non-null int64\n",
      "PAY_6                         30000 non-null int64\n",
      "default payment next month    30000 non-null int64\n",
      "EDU_BUCK                      30000 non-null object\n",
      "SEX_BUCK                      30000 non-null object\n",
      "MAR_BUCK                      30000 non-null object\n",
      "AGE_BUCK                      30000 non-null object\n",
      "LIMIT_BAL_BUCK                30000 non-null object\n",
      "dtypes: int64(7), object(5)\n",
      "memory usage: 2.7+ MB\n"
     ]
    }
   ],
   "source": [
    "pcf_o.info()"
   ]
  },
  {
   "cell_type": "code",
   "execution_count": 31,
   "metadata": {},
   "outputs": [],
   "source": [
    "mar_buck_d = pd.get_dummies(pcf_o['MAR_BUCK'], prefix_sep=\"_\", drop_first=True)"
   ]
  },
  {
   "cell_type": "code",
   "execution_count": 32,
   "metadata": {},
   "outputs": [],
   "source": [
    "pcf_o_dum = pd.merge(pcf_o, mar_buck_d, how='left', right_index=True, left_index=True)"
   ]
  },
  {
   "cell_type": "code",
   "execution_count": 33,
   "metadata": {},
   "outputs": [],
   "source": [
    "pcf_o_dum = pcf_o_dum.drop('MAR_BUCK',1)"
   ]
  },
  {
   "cell_type": "code",
   "execution_count": 34,
   "metadata": {},
   "outputs": [
    {
     "data": {
      "text/html": [
       "<div>\n",
       "<style scoped>\n",
       "    .dataframe tbody tr th:only-of-type {\n",
       "        vertical-align: middle;\n",
       "    }\n",
       "\n",
       "    .dataframe tbody tr th {\n",
       "        vertical-align: top;\n",
       "    }\n",
       "\n",
       "    .dataframe thead th {\n",
       "        text-align: right;\n",
       "    }\n",
       "</style>\n",
       "<table border=\"1\" class=\"dataframe\">\n",
       "  <thead>\n",
       "    <tr style=\"text-align: right;\">\n",
       "      <th></th>\n",
       "      <th>PAY_1</th>\n",
       "      <th>PAY_2</th>\n",
       "      <th>PAY_3</th>\n",
       "      <th>PAY_4</th>\n",
       "      <th>PAY_5</th>\n",
       "      <th>PAY_6</th>\n",
       "      <th>default payment next month</th>\n",
       "      <th>EDU_BUCK</th>\n",
       "      <th>SEX_BUCK</th>\n",
       "      <th>AGE_BUCK</th>\n",
       "      <th>LIMIT_BAL_BUCK</th>\n",
       "      <th>MARR</th>\n",
       "      <th>OTHR</th>\n",
       "      <th>SING</th>\n",
       "    </tr>\n",
       "  </thead>\n",
       "  <tbody>\n",
       "    <tr>\n",
       "      <th>0</th>\n",
       "      <td>2</td>\n",
       "      <td>2</td>\n",
       "      <td>-1</td>\n",
       "      <td>-1</td>\n",
       "      <td>-2</td>\n",
       "      <td>-2</td>\n",
       "      <td>1</td>\n",
       "      <td>UNIV</td>\n",
       "      <td>FEML</td>\n",
       "      <td>&lt;25</td>\n",
       "      <td>&lt;50K</td>\n",
       "      <td>1</td>\n",
       "      <td>0</td>\n",
       "      <td>0</td>\n",
       "    </tr>\n",
       "    <tr>\n",
       "      <th>1</th>\n",
       "      <td>-1</td>\n",
       "      <td>2</td>\n",
       "      <td>0</td>\n",
       "      <td>0</td>\n",
       "      <td>0</td>\n",
       "      <td>2</td>\n",
       "      <td>1</td>\n",
       "      <td>UNIV</td>\n",
       "      <td>FEML</td>\n",
       "      <td>&lt;30</td>\n",
       "      <td>&lt;200K</td>\n",
       "      <td>0</td>\n",
       "      <td>0</td>\n",
       "      <td>1</td>\n",
       "    </tr>\n",
       "    <tr>\n",
       "      <th>2</th>\n",
       "      <td>0</td>\n",
       "      <td>0</td>\n",
       "      <td>0</td>\n",
       "      <td>0</td>\n",
       "      <td>0</td>\n",
       "      <td>0</td>\n",
       "      <td>0</td>\n",
       "      <td>UNIV</td>\n",
       "      <td>FEML</td>\n",
       "      <td>&lt;35</td>\n",
       "      <td>&lt;100K</td>\n",
       "      <td>0</td>\n",
       "      <td>0</td>\n",
       "      <td>1</td>\n",
       "    </tr>\n",
       "    <tr>\n",
       "      <th>3</th>\n",
       "      <td>0</td>\n",
       "      <td>0</td>\n",
       "      <td>0</td>\n",
       "      <td>0</td>\n",
       "      <td>0</td>\n",
       "      <td>0</td>\n",
       "      <td>0</td>\n",
       "      <td>UNIV</td>\n",
       "      <td>FEML</td>\n",
       "      <td>&lt;40</td>\n",
       "      <td>&lt;100K</td>\n",
       "      <td>1</td>\n",
       "      <td>0</td>\n",
       "      <td>0</td>\n",
       "    </tr>\n",
       "    <tr>\n",
       "      <th>4</th>\n",
       "      <td>-1</td>\n",
       "      <td>0</td>\n",
       "      <td>-1</td>\n",
       "      <td>0</td>\n",
       "      <td>0</td>\n",
       "      <td>0</td>\n",
       "      <td>0</td>\n",
       "      <td>UNIV</td>\n",
       "      <td>MALE</td>\n",
       "      <td>50+</td>\n",
       "      <td>&lt;100K</td>\n",
       "      <td>1</td>\n",
       "      <td>0</td>\n",
       "      <td>0</td>\n",
       "    </tr>\n",
       "  </tbody>\n",
       "</table>\n",
       "</div>"
      ],
      "text/plain": [
       "   PAY_1  PAY_2  PAY_3  PAY_4  PAY_5  PAY_6  default payment next month  \\\n",
       "0      2      2     -1     -1     -2     -2                           1   \n",
       "1     -1      2      0      0      0      2                           1   \n",
       "2      0      0      0      0      0      0                           0   \n",
       "3      0      0      0      0      0      0                           0   \n",
       "4     -1      0     -1      0      0      0                           0   \n",
       "\n",
       "  EDU_BUCK SEX_BUCK AGE_BUCK LIMIT_BAL_BUCK  MARR  OTHR  SING  \n",
       "0     UNIV     FEML      <25           <50K     1     0     0  \n",
       "1     UNIV     FEML      <30          <200K     0     0     1  \n",
       "2     UNIV     FEML      <35          <100K     0     0     1  \n",
       "3     UNIV     FEML      <40          <100K     1     0     0  \n",
       "4     UNIV     MALE      50+          <100K     1     0     0  "
      ]
     },
     "execution_count": 34,
     "metadata": {},
     "output_type": "execute_result"
    }
   ],
   "source": [
    "pcf_o_dum.head()"
   ]
  },
  {
   "cell_type": "markdown",
   "metadata": {},
   "source": [
    "\"NORMAL STATE\" is \"DIVORCED\""
   ]
  },
  {
   "cell_type": "code",
   "execution_count": 35,
   "metadata": {},
   "outputs": [],
   "source": [
    "edu_buck_d = pd.get_dummies(pcf_o['EDU_BUCK'], prefix_sep=\"_\", drop_first=True)"
   ]
  },
  {
   "cell_type": "code",
   "execution_count": 36,
   "metadata": {},
   "outputs": [],
   "source": [
    "pcf_o_dum = pd.merge(pcf_o_dum, edu_buck_d, how='left', right_index=True, left_index=True)"
   ]
  },
  {
   "cell_type": "code",
   "execution_count": 37,
   "metadata": {},
   "outputs": [],
   "source": [
    "pcf_o_dum = pcf_o_dum.drop('EDU_BUCK',1)"
   ]
  },
  {
   "cell_type": "code",
   "execution_count": 38,
   "metadata": {},
   "outputs": [
    {
     "data": {
      "text/html": [
       "<div>\n",
       "<style scoped>\n",
       "    .dataframe tbody tr th:only-of-type {\n",
       "        vertical-align: middle;\n",
       "    }\n",
       "\n",
       "    .dataframe tbody tr th {\n",
       "        vertical-align: top;\n",
       "    }\n",
       "\n",
       "    .dataframe thead th {\n",
       "        text-align: right;\n",
       "    }\n",
       "</style>\n",
       "<table border=\"1\" class=\"dataframe\">\n",
       "  <thead>\n",
       "    <tr style=\"text-align: right;\">\n",
       "      <th></th>\n",
       "      <th>PAY_1</th>\n",
       "      <th>PAY_2</th>\n",
       "      <th>PAY_3</th>\n",
       "      <th>PAY_4</th>\n",
       "      <th>PAY_5</th>\n",
       "      <th>PAY_6</th>\n",
       "      <th>default payment next month</th>\n",
       "      <th>SEX_BUCK</th>\n",
       "      <th>AGE_BUCK</th>\n",
       "      <th>LIMIT_BAL_BUCK</th>\n",
       "      <th>MARR</th>\n",
       "      <th>OTHR_x</th>\n",
       "      <th>SING</th>\n",
       "      <th>HS</th>\n",
       "      <th>OTHR_y</th>\n",
       "      <th>UNIV</th>\n",
       "    </tr>\n",
       "  </thead>\n",
       "  <tbody>\n",
       "    <tr>\n",
       "      <th>0</th>\n",
       "      <td>2</td>\n",
       "      <td>2</td>\n",
       "      <td>-1</td>\n",
       "      <td>-1</td>\n",
       "      <td>-2</td>\n",
       "      <td>-2</td>\n",
       "      <td>1</td>\n",
       "      <td>FEML</td>\n",
       "      <td>&lt;25</td>\n",
       "      <td>&lt;50K</td>\n",
       "      <td>1</td>\n",
       "      <td>0</td>\n",
       "      <td>0</td>\n",
       "      <td>0</td>\n",
       "      <td>0</td>\n",
       "      <td>1</td>\n",
       "    </tr>\n",
       "    <tr>\n",
       "      <th>1</th>\n",
       "      <td>-1</td>\n",
       "      <td>2</td>\n",
       "      <td>0</td>\n",
       "      <td>0</td>\n",
       "      <td>0</td>\n",
       "      <td>2</td>\n",
       "      <td>1</td>\n",
       "      <td>FEML</td>\n",
       "      <td>&lt;30</td>\n",
       "      <td>&lt;200K</td>\n",
       "      <td>0</td>\n",
       "      <td>0</td>\n",
       "      <td>1</td>\n",
       "      <td>0</td>\n",
       "      <td>0</td>\n",
       "      <td>1</td>\n",
       "    </tr>\n",
       "    <tr>\n",
       "      <th>2</th>\n",
       "      <td>0</td>\n",
       "      <td>0</td>\n",
       "      <td>0</td>\n",
       "      <td>0</td>\n",
       "      <td>0</td>\n",
       "      <td>0</td>\n",
       "      <td>0</td>\n",
       "      <td>FEML</td>\n",
       "      <td>&lt;35</td>\n",
       "      <td>&lt;100K</td>\n",
       "      <td>0</td>\n",
       "      <td>0</td>\n",
       "      <td>1</td>\n",
       "      <td>0</td>\n",
       "      <td>0</td>\n",
       "      <td>1</td>\n",
       "    </tr>\n",
       "    <tr>\n",
       "      <th>3</th>\n",
       "      <td>0</td>\n",
       "      <td>0</td>\n",
       "      <td>0</td>\n",
       "      <td>0</td>\n",
       "      <td>0</td>\n",
       "      <td>0</td>\n",
       "      <td>0</td>\n",
       "      <td>FEML</td>\n",
       "      <td>&lt;40</td>\n",
       "      <td>&lt;100K</td>\n",
       "      <td>1</td>\n",
       "      <td>0</td>\n",
       "      <td>0</td>\n",
       "      <td>0</td>\n",
       "      <td>0</td>\n",
       "      <td>1</td>\n",
       "    </tr>\n",
       "    <tr>\n",
       "      <th>4</th>\n",
       "      <td>-1</td>\n",
       "      <td>0</td>\n",
       "      <td>-1</td>\n",
       "      <td>0</td>\n",
       "      <td>0</td>\n",
       "      <td>0</td>\n",
       "      <td>0</td>\n",
       "      <td>MALE</td>\n",
       "      <td>50+</td>\n",
       "      <td>&lt;100K</td>\n",
       "      <td>1</td>\n",
       "      <td>0</td>\n",
       "      <td>0</td>\n",
       "      <td>0</td>\n",
       "      <td>0</td>\n",
       "      <td>1</td>\n",
       "    </tr>\n",
       "  </tbody>\n",
       "</table>\n",
       "</div>"
      ],
      "text/plain": [
       "   PAY_1  PAY_2  PAY_3  PAY_4  PAY_5  PAY_6  default payment next month  \\\n",
       "0      2      2     -1     -1     -2     -2                           1   \n",
       "1     -1      2      0      0      0      2                           1   \n",
       "2      0      0      0      0      0      0                           0   \n",
       "3      0      0      0      0      0      0                           0   \n",
       "4     -1      0     -1      0      0      0                           0   \n",
       "\n",
       "  SEX_BUCK AGE_BUCK LIMIT_BAL_BUCK  MARR  OTHR_x  SING  HS  OTHR_y  UNIV  \n",
       "0     FEML      <25           <50K     1       0     0   0       0     1  \n",
       "1     FEML      <30          <200K     0       0     1   0       0     1  \n",
       "2     FEML      <35          <100K     0       0     1   0       0     1  \n",
       "3     FEML      <40          <100K     1       0     0   0       0     1  \n",
       "4     MALE      50+          <100K     1       0     0   0       0     1  "
      ]
     },
     "execution_count": 38,
     "metadata": {},
     "output_type": "execute_result"
    }
   ],
   "source": [
    "pcf_o_dum.head()"
   ]
  },
  {
   "cell_type": "markdown",
   "metadata": {},
   "source": [
    "* \"NORMAL STATE\" IS \"GRAD\"\n",
    "* OTHR_x is marital status\n",
    "* OTHR_y is education"
   ]
  },
  {
   "cell_type": "code",
   "execution_count": 39,
   "metadata": {},
   "outputs": [],
   "source": [
    "sex_buck_d = pd.get_dummies(pcf_o['SEX_BUCK'], prefix_sep=\"_\", drop_first=True)"
   ]
  },
  {
   "cell_type": "code",
   "execution_count": 40,
   "metadata": {},
   "outputs": [],
   "source": [
    "pcf_o_dum = pd.merge(pcf_o_dum, sex_buck_d, how='left', right_index=True, left_index=True)"
   ]
  },
  {
   "cell_type": "code",
   "execution_count": 41,
   "metadata": {},
   "outputs": [],
   "source": [
    "pcf_o_dum = pcf_o_dum.drop('SEX_BUCK',1)"
   ]
  },
  {
   "cell_type": "code",
   "execution_count": 42,
   "metadata": {},
   "outputs": [
    {
     "data": {
      "text/html": [
       "<div>\n",
       "<style scoped>\n",
       "    .dataframe tbody tr th:only-of-type {\n",
       "        vertical-align: middle;\n",
       "    }\n",
       "\n",
       "    .dataframe tbody tr th {\n",
       "        vertical-align: top;\n",
       "    }\n",
       "\n",
       "    .dataframe thead th {\n",
       "        text-align: right;\n",
       "    }\n",
       "</style>\n",
       "<table border=\"1\" class=\"dataframe\">\n",
       "  <thead>\n",
       "    <tr style=\"text-align: right;\">\n",
       "      <th></th>\n",
       "      <th>PAY_1</th>\n",
       "      <th>PAY_2</th>\n",
       "      <th>PAY_3</th>\n",
       "      <th>PAY_4</th>\n",
       "      <th>PAY_5</th>\n",
       "      <th>PAY_6</th>\n",
       "      <th>default payment next month</th>\n",
       "      <th>AGE_BUCK</th>\n",
       "      <th>LIMIT_BAL_BUCK</th>\n",
       "      <th>MARR</th>\n",
       "      <th>OTHR_x</th>\n",
       "      <th>SING</th>\n",
       "      <th>HS</th>\n",
       "      <th>OTHR_y</th>\n",
       "      <th>UNIV</th>\n",
       "      <th>MALE</th>\n",
       "    </tr>\n",
       "  </thead>\n",
       "  <tbody>\n",
       "    <tr>\n",
       "      <th>0</th>\n",
       "      <td>2</td>\n",
       "      <td>2</td>\n",
       "      <td>-1</td>\n",
       "      <td>-1</td>\n",
       "      <td>-2</td>\n",
       "      <td>-2</td>\n",
       "      <td>1</td>\n",
       "      <td>&lt;25</td>\n",
       "      <td>&lt;50K</td>\n",
       "      <td>1</td>\n",
       "      <td>0</td>\n",
       "      <td>0</td>\n",
       "      <td>0</td>\n",
       "      <td>0</td>\n",
       "      <td>1</td>\n",
       "      <td>0</td>\n",
       "    </tr>\n",
       "    <tr>\n",
       "      <th>1</th>\n",
       "      <td>-1</td>\n",
       "      <td>2</td>\n",
       "      <td>0</td>\n",
       "      <td>0</td>\n",
       "      <td>0</td>\n",
       "      <td>2</td>\n",
       "      <td>1</td>\n",
       "      <td>&lt;30</td>\n",
       "      <td>&lt;200K</td>\n",
       "      <td>0</td>\n",
       "      <td>0</td>\n",
       "      <td>1</td>\n",
       "      <td>0</td>\n",
       "      <td>0</td>\n",
       "      <td>1</td>\n",
       "      <td>0</td>\n",
       "    </tr>\n",
       "    <tr>\n",
       "      <th>2</th>\n",
       "      <td>0</td>\n",
       "      <td>0</td>\n",
       "      <td>0</td>\n",
       "      <td>0</td>\n",
       "      <td>0</td>\n",
       "      <td>0</td>\n",
       "      <td>0</td>\n",
       "      <td>&lt;35</td>\n",
       "      <td>&lt;100K</td>\n",
       "      <td>0</td>\n",
       "      <td>0</td>\n",
       "      <td>1</td>\n",
       "      <td>0</td>\n",
       "      <td>0</td>\n",
       "      <td>1</td>\n",
       "      <td>0</td>\n",
       "    </tr>\n",
       "    <tr>\n",
       "      <th>3</th>\n",
       "      <td>0</td>\n",
       "      <td>0</td>\n",
       "      <td>0</td>\n",
       "      <td>0</td>\n",
       "      <td>0</td>\n",
       "      <td>0</td>\n",
       "      <td>0</td>\n",
       "      <td>&lt;40</td>\n",
       "      <td>&lt;100K</td>\n",
       "      <td>1</td>\n",
       "      <td>0</td>\n",
       "      <td>0</td>\n",
       "      <td>0</td>\n",
       "      <td>0</td>\n",
       "      <td>1</td>\n",
       "      <td>0</td>\n",
       "    </tr>\n",
       "    <tr>\n",
       "      <th>4</th>\n",
       "      <td>-1</td>\n",
       "      <td>0</td>\n",
       "      <td>-1</td>\n",
       "      <td>0</td>\n",
       "      <td>0</td>\n",
       "      <td>0</td>\n",
       "      <td>0</td>\n",
       "      <td>50+</td>\n",
       "      <td>&lt;100K</td>\n",
       "      <td>1</td>\n",
       "      <td>0</td>\n",
       "      <td>0</td>\n",
       "      <td>0</td>\n",
       "      <td>0</td>\n",
       "      <td>1</td>\n",
       "      <td>1</td>\n",
       "    </tr>\n",
       "  </tbody>\n",
       "</table>\n",
       "</div>"
      ],
      "text/plain": [
       "   PAY_1  PAY_2  PAY_3  PAY_4  PAY_5  PAY_6  default payment next month  \\\n",
       "0      2      2     -1     -1     -2     -2                           1   \n",
       "1     -1      2      0      0      0      2                           1   \n",
       "2      0      0      0      0      0      0                           0   \n",
       "3      0      0      0      0      0      0                           0   \n",
       "4     -1      0     -1      0      0      0                           0   \n",
       "\n",
       "  AGE_BUCK LIMIT_BAL_BUCK  MARR  OTHR_x  SING  HS  OTHR_y  UNIV  MALE  \n",
       "0      <25           <50K     1       0     0   0       0     1     0  \n",
       "1      <30          <200K     0       0     1   0       0     1     0  \n",
       "2      <35          <100K     0       0     1   0       0     1     0  \n",
       "3      <40          <100K     1       0     0   0       0     1     0  \n",
       "4      50+          <100K     1       0     0   0       0     1     1  "
      ]
     },
     "execution_count": 42,
     "metadata": {},
     "output_type": "execute_result"
    }
   ],
   "source": [
    "pcf_o_dum.head()"
   ]
  },
  {
   "cell_type": "markdown",
   "metadata": {},
   "source": [
    "\"NORMAL STATE\" is \"FEMALE\""
   ]
  },
  {
   "cell_type": "code",
   "execution_count": 43,
   "metadata": {},
   "outputs": [],
   "source": [
    "age_buck_d = pd.get_dummies(pcf_o['AGE_BUCK'], prefix_sep=\"_\", drop_first=True)"
   ]
  },
  {
   "cell_type": "code",
   "execution_count": 44,
   "metadata": {},
   "outputs": [],
   "source": [
    "pcf_o_dum = pd.merge(pcf_o_dum, age_buck_d, how='left', right_index=True, left_index=True)"
   ]
  },
  {
   "cell_type": "code",
   "execution_count": 45,
   "metadata": {},
   "outputs": [],
   "source": [
    "pcf_o_dum = pcf_o_dum.drop('AGE_BUCK',1)"
   ]
  },
  {
   "cell_type": "code",
   "execution_count": 46,
   "metadata": {},
   "outputs": [
    {
     "data": {
      "text/html": [
       "<div>\n",
       "<style scoped>\n",
       "    .dataframe tbody tr th:only-of-type {\n",
       "        vertical-align: middle;\n",
       "    }\n",
       "\n",
       "    .dataframe tbody tr th {\n",
       "        vertical-align: top;\n",
       "    }\n",
       "\n",
       "    .dataframe thead th {\n",
       "        text-align: right;\n",
       "    }\n",
       "</style>\n",
       "<table border=\"1\" class=\"dataframe\">\n",
       "  <thead>\n",
       "    <tr style=\"text-align: right;\">\n",
       "      <th></th>\n",
       "      <th>PAY_1</th>\n",
       "      <th>PAY_2</th>\n",
       "      <th>PAY_3</th>\n",
       "      <th>PAY_4</th>\n",
       "      <th>PAY_5</th>\n",
       "      <th>PAY_6</th>\n",
       "      <th>default payment next month</th>\n",
       "      <th>LIMIT_BAL_BUCK</th>\n",
       "      <th>MARR</th>\n",
       "      <th>OTHR_x</th>\n",
       "      <th>SING</th>\n",
       "      <th>HS</th>\n",
       "      <th>OTHR_y</th>\n",
       "      <th>UNIV</th>\n",
       "      <th>MALE</th>\n",
       "      <th>&lt;25</th>\n",
       "      <th>&lt;30</th>\n",
       "      <th>&lt;35</th>\n",
       "      <th>&lt;40</th>\n",
       "      <th>&lt;50</th>\n",
       "    </tr>\n",
       "  </thead>\n",
       "  <tbody>\n",
       "    <tr>\n",
       "      <th>0</th>\n",
       "      <td>2</td>\n",
       "      <td>2</td>\n",
       "      <td>-1</td>\n",
       "      <td>-1</td>\n",
       "      <td>-2</td>\n",
       "      <td>-2</td>\n",
       "      <td>1</td>\n",
       "      <td>&lt;50K</td>\n",
       "      <td>1</td>\n",
       "      <td>0</td>\n",
       "      <td>0</td>\n",
       "      <td>0</td>\n",
       "      <td>0</td>\n",
       "      <td>1</td>\n",
       "      <td>0</td>\n",
       "      <td>1</td>\n",
       "      <td>0</td>\n",
       "      <td>0</td>\n",
       "      <td>0</td>\n",
       "      <td>0</td>\n",
       "    </tr>\n",
       "    <tr>\n",
       "      <th>1</th>\n",
       "      <td>-1</td>\n",
       "      <td>2</td>\n",
       "      <td>0</td>\n",
       "      <td>0</td>\n",
       "      <td>0</td>\n",
       "      <td>2</td>\n",
       "      <td>1</td>\n",
       "      <td>&lt;200K</td>\n",
       "      <td>0</td>\n",
       "      <td>0</td>\n",
       "      <td>1</td>\n",
       "      <td>0</td>\n",
       "      <td>0</td>\n",
       "      <td>1</td>\n",
       "      <td>0</td>\n",
       "      <td>0</td>\n",
       "      <td>1</td>\n",
       "      <td>0</td>\n",
       "      <td>0</td>\n",
       "      <td>0</td>\n",
       "    </tr>\n",
       "    <tr>\n",
       "      <th>2</th>\n",
       "      <td>0</td>\n",
       "      <td>0</td>\n",
       "      <td>0</td>\n",
       "      <td>0</td>\n",
       "      <td>0</td>\n",
       "      <td>0</td>\n",
       "      <td>0</td>\n",
       "      <td>&lt;100K</td>\n",
       "      <td>0</td>\n",
       "      <td>0</td>\n",
       "      <td>1</td>\n",
       "      <td>0</td>\n",
       "      <td>0</td>\n",
       "      <td>1</td>\n",
       "      <td>0</td>\n",
       "      <td>0</td>\n",
       "      <td>0</td>\n",
       "      <td>1</td>\n",
       "      <td>0</td>\n",
       "      <td>0</td>\n",
       "    </tr>\n",
       "    <tr>\n",
       "      <th>3</th>\n",
       "      <td>0</td>\n",
       "      <td>0</td>\n",
       "      <td>0</td>\n",
       "      <td>0</td>\n",
       "      <td>0</td>\n",
       "      <td>0</td>\n",
       "      <td>0</td>\n",
       "      <td>&lt;100K</td>\n",
       "      <td>1</td>\n",
       "      <td>0</td>\n",
       "      <td>0</td>\n",
       "      <td>0</td>\n",
       "      <td>0</td>\n",
       "      <td>1</td>\n",
       "      <td>0</td>\n",
       "      <td>0</td>\n",
       "      <td>0</td>\n",
       "      <td>0</td>\n",
       "      <td>1</td>\n",
       "      <td>0</td>\n",
       "    </tr>\n",
       "    <tr>\n",
       "      <th>4</th>\n",
       "      <td>-1</td>\n",
       "      <td>0</td>\n",
       "      <td>-1</td>\n",
       "      <td>0</td>\n",
       "      <td>0</td>\n",
       "      <td>0</td>\n",
       "      <td>0</td>\n",
       "      <td>&lt;100K</td>\n",
       "      <td>1</td>\n",
       "      <td>0</td>\n",
       "      <td>0</td>\n",
       "      <td>0</td>\n",
       "      <td>0</td>\n",
       "      <td>1</td>\n",
       "      <td>1</td>\n",
       "      <td>0</td>\n",
       "      <td>0</td>\n",
       "      <td>0</td>\n",
       "      <td>0</td>\n",
       "      <td>0</td>\n",
       "    </tr>\n",
       "  </tbody>\n",
       "</table>\n",
       "</div>"
      ],
      "text/plain": [
       "   PAY_1  PAY_2  PAY_3  PAY_4  PAY_5  PAY_6  default payment next month  \\\n",
       "0      2      2     -1     -1     -2     -2                           1   \n",
       "1     -1      2      0      0      0      2                           1   \n",
       "2      0      0      0      0      0      0                           0   \n",
       "3      0      0      0      0      0      0                           0   \n",
       "4     -1      0     -1      0      0      0                           0   \n",
       "\n",
       "  LIMIT_BAL_BUCK  MARR  OTHR_x  SING  HS  OTHR_y  UNIV  MALE  <25  <30  <35  \\\n",
       "0           <50K     1       0     0   0       0     1     0    1    0    0   \n",
       "1          <200K     0       0     1   0       0     1     0    0    1    0   \n",
       "2          <100K     0       0     1   0       0     1     0    0    0    1   \n",
       "3          <100K     1       0     0   0       0     1     0    0    0    0   \n",
       "4          <100K     1       0     0   0       0     1     1    0    0    0   \n",
       "\n",
       "   <40  <50  \n",
       "0    0    0  \n",
       "1    0    0  \n",
       "2    0    0  \n",
       "3    1    0  \n",
       "4    0    0  "
      ]
     },
     "execution_count": 46,
     "metadata": {},
     "output_type": "execute_result"
    }
   ],
   "source": [
    "pcf_o_dum.head()"
   ]
  },
  {
   "cell_type": "markdown",
   "metadata": {},
   "source": [
    "\"NORMAL STATE\" for age is 50+"
   ]
  },
  {
   "cell_type": "code",
   "execution_count": 47,
   "metadata": {},
   "outputs": [],
   "source": [
    "bal_buck_d = pd.get_dummies(pcf_o['LIMIT_BAL_BUCK'], prefix_sep=\"_\", drop_first=True)"
   ]
  },
  {
   "cell_type": "code",
   "execution_count": 48,
   "metadata": {},
   "outputs": [],
   "source": [
    "pcf_o_dum = pd.merge(pcf_o_dum, bal_buck_d, how='left', right_index=True, left_index=True)"
   ]
  },
  {
   "cell_type": "code",
   "execution_count": 49,
   "metadata": {},
   "outputs": [],
   "source": [
    "pcf_o_dum = pcf_o_dum.drop('LIMIT_BAL_BUCK',1)"
   ]
  },
  {
   "cell_type": "code",
   "execution_count": 50,
   "metadata": {},
   "outputs": [
    {
     "data": {
      "text/html": [
       "<div>\n",
       "<style scoped>\n",
       "    .dataframe tbody tr th:only-of-type {\n",
       "        vertical-align: middle;\n",
       "    }\n",
       "\n",
       "    .dataframe tbody tr th {\n",
       "        vertical-align: top;\n",
       "    }\n",
       "\n",
       "    .dataframe thead th {\n",
       "        text-align: right;\n",
       "    }\n",
       "</style>\n",
       "<table border=\"1\" class=\"dataframe\">\n",
       "  <thead>\n",
       "    <tr style=\"text-align: right;\">\n",
       "      <th></th>\n",
       "      <th>PAY_1</th>\n",
       "      <th>PAY_2</th>\n",
       "      <th>PAY_3</th>\n",
       "      <th>PAY_4</th>\n",
       "      <th>PAY_5</th>\n",
       "      <th>PAY_6</th>\n",
       "      <th>default payment next month</th>\n",
       "      <th>MARR</th>\n",
       "      <th>OTHR_x</th>\n",
       "      <th>SING</th>\n",
       "      <th>...</th>\n",
       "      <th>MALE</th>\n",
       "      <th>&lt;25</th>\n",
       "      <th>&lt;30</th>\n",
       "      <th>&lt;35</th>\n",
       "      <th>&lt;40</th>\n",
       "      <th>&lt;50</th>\n",
       "      <th>&lt;100K</th>\n",
       "      <th>&lt;200K</th>\n",
       "      <th>&lt;300K</th>\n",
       "      <th>&lt;50K</th>\n",
       "    </tr>\n",
       "  </thead>\n",
       "  <tbody>\n",
       "    <tr>\n",
       "      <th>0</th>\n",
       "      <td>2</td>\n",
       "      <td>2</td>\n",
       "      <td>-1</td>\n",
       "      <td>-1</td>\n",
       "      <td>-2</td>\n",
       "      <td>-2</td>\n",
       "      <td>1</td>\n",
       "      <td>1</td>\n",
       "      <td>0</td>\n",
       "      <td>0</td>\n",
       "      <td>...</td>\n",
       "      <td>0</td>\n",
       "      <td>1</td>\n",
       "      <td>0</td>\n",
       "      <td>0</td>\n",
       "      <td>0</td>\n",
       "      <td>0</td>\n",
       "      <td>0</td>\n",
       "      <td>0</td>\n",
       "      <td>0</td>\n",
       "      <td>1</td>\n",
       "    </tr>\n",
       "    <tr>\n",
       "      <th>1</th>\n",
       "      <td>-1</td>\n",
       "      <td>2</td>\n",
       "      <td>0</td>\n",
       "      <td>0</td>\n",
       "      <td>0</td>\n",
       "      <td>2</td>\n",
       "      <td>1</td>\n",
       "      <td>0</td>\n",
       "      <td>0</td>\n",
       "      <td>1</td>\n",
       "      <td>...</td>\n",
       "      <td>0</td>\n",
       "      <td>0</td>\n",
       "      <td>1</td>\n",
       "      <td>0</td>\n",
       "      <td>0</td>\n",
       "      <td>0</td>\n",
       "      <td>0</td>\n",
       "      <td>1</td>\n",
       "      <td>0</td>\n",
       "      <td>0</td>\n",
       "    </tr>\n",
       "    <tr>\n",
       "      <th>2</th>\n",
       "      <td>0</td>\n",
       "      <td>0</td>\n",
       "      <td>0</td>\n",
       "      <td>0</td>\n",
       "      <td>0</td>\n",
       "      <td>0</td>\n",
       "      <td>0</td>\n",
       "      <td>0</td>\n",
       "      <td>0</td>\n",
       "      <td>1</td>\n",
       "      <td>...</td>\n",
       "      <td>0</td>\n",
       "      <td>0</td>\n",
       "      <td>0</td>\n",
       "      <td>1</td>\n",
       "      <td>0</td>\n",
       "      <td>0</td>\n",
       "      <td>1</td>\n",
       "      <td>0</td>\n",
       "      <td>0</td>\n",
       "      <td>0</td>\n",
       "    </tr>\n",
       "    <tr>\n",
       "      <th>3</th>\n",
       "      <td>0</td>\n",
       "      <td>0</td>\n",
       "      <td>0</td>\n",
       "      <td>0</td>\n",
       "      <td>0</td>\n",
       "      <td>0</td>\n",
       "      <td>0</td>\n",
       "      <td>1</td>\n",
       "      <td>0</td>\n",
       "      <td>0</td>\n",
       "      <td>...</td>\n",
       "      <td>0</td>\n",
       "      <td>0</td>\n",
       "      <td>0</td>\n",
       "      <td>0</td>\n",
       "      <td>1</td>\n",
       "      <td>0</td>\n",
       "      <td>1</td>\n",
       "      <td>0</td>\n",
       "      <td>0</td>\n",
       "      <td>0</td>\n",
       "    </tr>\n",
       "    <tr>\n",
       "      <th>4</th>\n",
       "      <td>-1</td>\n",
       "      <td>0</td>\n",
       "      <td>-1</td>\n",
       "      <td>0</td>\n",
       "      <td>0</td>\n",
       "      <td>0</td>\n",
       "      <td>0</td>\n",
       "      <td>1</td>\n",
       "      <td>0</td>\n",
       "      <td>0</td>\n",
       "      <td>...</td>\n",
       "      <td>1</td>\n",
       "      <td>0</td>\n",
       "      <td>0</td>\n",
       "      <td>0</td>\n",
       "      <td>0</td>\n",
       "      <td>0</td>\n",
       "      <td>1</td>\n",
       "      <td>0</td>\n",
       "      <td>0</td>\n",
       "      <td>0</td>\n",
       "    </tr>\n",
       "  </tbody>\n",
       "</table>\n",
       "<p>5 rows × 23 columns</p>\n",
       "</div>"
      ],
      "text/plain": [
       "   PAY_1  PAY_2  PAY_3  PAY_4  PAY_5  PAY_6  default payment next month  MARR  \\\n",
       "0      2      2     -1     -1     -2     -2                           1     1   \n",
       "1     -1      2      0      0      0      2                           1     0   \n",
       "2      0      0      0      0      0      0                           0     0   \n",
       "3      0      0      0      0      0      0                           0     1   \n",
       "4     -1      0     -1      0      0      0                           0     1   \n",
       "\n",
       "   OTHR_x  SING  ...  MALE  <25  <30  <35  <40  <50  <100K  <200K  <300K  <50K  \n",
       "0       0     0  ...     0    1    0    0    0    0      0      0      0     1  \n",
       "1       0     1  ...     0    0    1    0    0    0      0      1      0     0  \n",
       "2       0     1  ...     0    0    0    1    0    0      1      0      0     0  \n",
       "3       0     0  ...     0    0    0    0    1    0      1      0      0     0  \n",
       "4       0     0  ...     1    0    0    0    0    0      1      0      0     0  \n",
       "\n",
       "[5 rows x 23 columns]"
      ]
     },
     "execution_count": 50,
     "metadata": {},
     "output_type": "execute_result"
    }
   ],
   "source": [
    "pcf_o_dum.head()"
   ]
  },
  {
   "cell_type": "markdown",
   "metadata": {},
   "source": [
    "\"NORMAL STATE\" IS >300K"
   ]
  },
  {
   "cell_type": "markdown",
   "metadata": {},
   "source": [
    "# SLIM - Create Test and Training Sets"
   ]
  },
  {
   "cell_type": "code",
   "execution_count": 53,
   "metadata": {},
   "outputs": [],
   "source": [
    "depVar_o = pcf_o['default payment next month']"
   ]
  },
  {
   "cell_type": "code",
   "execution_count": 55,
   "metadata": {},
   "outputs": [],
   "source": [
    "features_o = pcf_o_dum.drop('default payment next month',1)"
   ]
  },
  {
   "cell_type": "code",
   "execution_count": 56,
   "metadata": {},
   "outputs": [],
   "source": [
    "X_train_o, X_test_o, Y_train_o, Y_test_o = train_test_split(features_o, depVar_o, test_size=test_size, random_state=seed)"
   ]
  },
  {
   "cell_type": "code",
   "execution_count": 57,
   "metadata": {},
   "outputs": [
    {
     "name": "stdout",
     "output_type": "stream",
     "text": [
      "The number of observations in the X Training set are: 21000\n"
     ]
    },
    {
     "data": {
      "text/html": [
       "<div>\n",
       "<style scoped>\n",
       "    .dataframe tbody tr th:only-of-type {\n",
       "        vertical-align: middle;\n",
       "    }\n",
       "\n",
       "    .dataframe tbody tr th {\n",
       "        vertical-align: top;\n",
       "    }\n",
       "\n",
       "    .dataframe thead th {\n",
       "        text-align: right;\n",
       "    }\n",
       "</style>\n",
       "<table border=\"1\" class=\"dataframe\">\n",
       "  <thead>\n",
       "    <tr style=\"text-align: right;\">\n",
       "      <th></th>\n",
       "      <th>PAY_1</th>\n",
       "      <th>PAY_2</th>\n",
       "      <th>PAY_3</th>\n",
       "      <th>PAY_4</th>\n",
       "      <th>PAY_5</th>\n",
       "      <th>PAY_6</th>\n",
       "      <th>MARR</th>\n",
       "      <th>OTHR_x</th>\n",
       "      <th>SING</th>\n",
       "      <th>HS</th>\n",
       "      <th>...</th>\n",
       "      <th>MALE</th>\n",
       "      <th>&lt;25</th>\n",
       "      <th>&lt;30</th>\n",
       "      <th>&lt;35</th>\n",
       "      <th>&lt;40</th>\n",
       "      <th>&lt;50</th>\n",
       "      <th>&lt;100K</th>\n",
       "      <th>&lt;200K</th>\n",
       "      <th>&lt;300K</th>\n",
       "      <th>&lt;50K</th>\n",
       "    </tr>\n",
       "  </thead>\n",
       "  <tbody>\n",
       "    <tr>\n",
       "      <th>14632</th>\n",
       "      <td>0</td>\n",
       "      <td>0</td>\n",
       "      <td>0</td>\n",
       "      <td>0</td>\n",
       "      <td>0</td>\n",
       "      <td>0</td>\n",
       "      <td>0</td>\n",
       "      <td>0</td>\n",
       "      <td>1</td>\n",
       "      <td>1</td>\n",
       "      <td>...</td>\n",
       "      <td>1</td>\n",
       "      <td>0</td>\n",
       "      <td>0</td>\n",
       "      <td>0</td>\n",
       "      <td>1</td>\n",
       "      <td>0</td>\n",
       "      <td>0</td>\n",
       "      <td>0</td>\n",
       "      <td>0</td>\n",
       "      <td>1</td>\n",
       "    </tr>\n",
       "    <tr>\n",
       "      <th>5372</th>\n",
       "      <td>0</td>\n",
       "      <td>0</td>\n",
       "      <td>0</td>\n",
       "      <td>0</td>\n",
       "      <td>-1</td>\n",
       "      <td>-1</td>\n",
       "      <td>0</td>\n",
       "      <td>0</td>\n",
       "      <td>1</td>\n",
       "      <td>0</td>\n",
       "      <td>...</td>\n",
       "      <td>1</td>\n",
       "      <td>0</td>\n",
       "      <td>1</td>\n",
       "      <td>0</td>\n",
       "      <td>0</td>\n",
       "      <td>0</td>\n",
       "      <td>0</td>\n",
       "      <td>0</td>\n",
       "      <td>1</td>\n",
       "      <td>0</td>\n",
       "    </tr>\n",
       "    <tr>\n",
       "      <th>8154</th>\n",
       "      <td>0</td>\n",
       "      <td>0</td>\n",
       "      <td>0</td>\n",
       "      <td>-2</td>\n",
       "      <td>-2</td>\n",
       "      <td>-2</td>\n",
       "      <td>0</td>\n",
       "      <td>0</td>\n",
       "      <td>1</td>\n",
       "      <td>0</td>\n",
       "      <td>...</td>\n",
       "      <td>1</td>\n",
       "      <td>0</td>\n",
       "      <td>0</td>\n",
       "      <td>1</td>\n",
       "      <td>0</td>\n",
       "      <td>0</td>\n",
       "      <td>1</td>\n",
       "      <td>0</td>\n",
       "      <td>0</td>\n",
       "      <td>0</td>\n",
       "    </tr>\n",
       "    <tr>\n",
       "      <th>6468</th>\n",
       "      <td>0</td>\n",
       "      <td>0</td>\n",
       "      <td>0</td>\n",
       "      <td>0</td>\n",
       "      <td>0</td>\n",
       "      <td>0</td>\n",
       "      <td>1</td>\n",
       "      <td>0</td>\n",
       "      <td>0</td>\n",
       "      <td>0</td>\n",
       "      <td>...</td>\n",
       "      <td>0</td>\n",
       "      <td>0</td>\n",
       "      <td>1</td>\n",
       "      <td>0</td>\n",
       "      <td>0</td>\n",
       "      <td>0</td>\n",
       "      <td>0</td>\n",
       "      <td>0</td>\n",
       "      <td>0</td>\n",
       "      <td>0</td>\n",
       "    </tr>\n",
       "    <tr>\n",
       "      <th>10581</th>\n",
       "      <td>0</td>\n",
       "      <td>0</td>\n",
       "      <td>0</td>\n",
       "      <td>0</td>\n",
       "      <td>0</td>\n",
       "      <td>0</td>\n",
       "      <td>0</td>\n",
       "      <td>0</td>\n",
       "      <td>1</td>\n",
       "      <td>0</td>\n",
       "      <td>...</td>\n",
       "      <td>0</td>\n",
       "      <td>1</td>\n",
       "      <td>0</td>\n",
       "      <td>0</td>\n",
       "      <td>0</td>\n",
       "      <td>0</td>\n",
       "      <td>1</td>\n",
       "      <td>0</td>\n",
       "      <td>0</td>\n",
       "      <td>0</td>\n",
       "    </tr>\n",
       "  </tbody>\n",
       "</table>\n",
       "<p>5 rows × 22 columns</p>\n",
       "</div>"
      ],
      "text/plain": [
       "       PAY_1  PAY_2  PAY_3  PAY_4  PAY_5  PAY_6  MARR  OTHR_x  SING  HS  ...  \\\n",
       "14632      0      0      0      0      0      0     0       0     1   1  ...   \n",
       "5372       0      0      0      0     -1     -1     0       0     1   0  ...   \n",
       "8154       0      0      0     -2     -2     -2     0       0     1   0  ...   \n",
       "6468       0      0      0      0      0      0     1       0     0   0  ...   \n",
       "10581      0      0      0      0      0      0     0       0     1   0  ...   \n",
       "\n",
       "       MALE  <25  <30  <35  <40  <50  <100K  <200K  <300K  <50K  \n",
       "14632     1    0    0    0    1    0      0      0      0     1  \n",
       "5372      1    0    1    0    0    0      0      0      1     0  \n",
       "8154      1    0    0    1    0    0      1      0      0     0  \n",
       "6468      0    0    1    0    0    0      0      0      0     0  \n",
       "10581     0    1    0    0    0    0      1      0      0     0  \n",
       "\n",
       "[5 rows x 22 columns]"
      ]
     },
     "execution_count": 57,
     "metadata": {},
     "output_type": "execute_result"
    }
   ],
   "source": [
    "#Independent Variable Training Set (X Training)\n",
    "X_train_count_o = len(X_train_o.index)\n",
    "print('The number of observations in the X Training set are:',str(X_train_count_o))\n",
    "X_train_o.head()"
   ]
  },
  {
   "cell_type": "markdown",
   "metadata": {},
   "source": [
    "# SLIM - Modeling"
   ]
  },
  {
   "cell_type": "markdown",
   "metadata": {},
   "source": [
    "## SVM"
   ]
  },
  {
   "cell_type": "code",
   "execution_count": 58,
   "metadata": {},
   "outputs": [
    {
     "name": "stderr",
     "output_type": "stream",
     "text": [
      "/Users/Andrew/anaconda3/lib/python3.7/site-packages/sklearn/svm/base.py:196: FutureWarning: The default value of gamma will change from 'auto' to 'scale' in version 0.22 to account better for unscaled features. Set gamma explicitly to 'auto' or 'scale' to avoid this warning.\n",
      "  \"avoid this warning.\", FutureWarning)\n",
      "/Users/Andrew/anaconda3/lib/python3.7/site-packages/sklearn/model_selection/_split.py:2053: FutureWarning: You should specify a value for 'cv' instead of relying on the default value. The default value will change from 3 to 5 in version 0.22.\n",
      "  warnings.warn(CV_WARNING, FutureWarning)\n",
      "/Users/Andrew/anaconda3/lib/python3.7/site-packages/sklearn/svm/base.py:196: FutureWarning: The default value of gamma will change from 'auto' to 'scale' in version 0.22 to account better for unscaled features. Set gamma explicitly to 'auto' or 'scale' to avoid this warning.\n",
      "  \"avoid this warning.\", FutureWarning)\n",
      "/Users/Andrew/anaconda3/lib/python3.7/site-packages/sklearn/svm/base.py:196: FutureWarning: The default value of gamma will change from 'auto' to 'scale' in version 0.22 to account better for unscaled features. Set gamma explicitly to 'auto' or 'scale' to avoid this warning.\n",
      "  \"avoid this warning.\", FutureWarning)\n",
      "/Users/Andrew/anaconda3/lib/python3.7/site-packages/sklearn/svm/base.py:196: FutureWarning: The default value of gamma will change from 'auto' to 'scale' in version 0.22 to account better for unscaled features. Set gamma explicitly to 'auto' or 'scale' to avoid this warning.\n",
      "  \"avoid this warning.\", FutureWarning)\n"
     ]
    },
    {
     "name": "stdout",
     "output_type": "stream",
     "text": [
      "[0.82031138 0.815      0.82197457]\n",
      "Train kappa: 0.37\n",
      "Train Accuracy: 0.82\n"
     ]
    }
   ],
   "source": [
    "#Model Fitting\n",
    "modelSVC_o.fit(X_train_o,Y_train_o)\n",
    "predSVC_o=modelSVC_o.predict(X_train_o)\n",
    "print(cross_val_score(modelSVC_o, X_train_o, Y_train_o))\n",
    "print('Train kappa: %.2f' \n",
    "% cohen_kappa_score(y1=Y_train_o, y2=predSVC_o))\n",
    "print('Train Accuracy: %.2f' \n",
    "% accuracy_score(y_true=Y_train_o, y_pred=predSVC_o))"
   ]
  },
  {
   "cell_type": "markdown",
   "metadata": {},
   "source": [
    "## RF"
   ]
  },
  {
   "cell_type": "code",
   "execution_count": 59,
   "metadata": {},
   "outputs": [
    {
     "name": "stderr",
     "output_type": "stream",
     "text": [
      "/Users/Andrew/anaconda3/lib/python3.7/site-packages/sklearn/ensemble/forest.py:246: FutureWarning: The default value of n_estimators will change from 10 in version 0.20 to 100 in 0.22.\n",
      "  \"10 in version 0.20 to 100 in 0.22.\", FutureWarning)\n",
      "/Users/Andrew/anaconda3/lib/python3.7/site-packages/sklearn/model_selection/_split.py:2053: FutureWarning: You should specify a value for 'cv' instead of relying on the default value. The default value will change from 3 to 5 in version 0.22.\n",
      "  warnings.warn(CV_WARNING, FutureWarning)\n"
     ]
    },
    {
     "name": "stdout",
     "output_type": "stream",
     "text": [
      "[0.79003    0.77971429 0.7918274 ]\n",
      "Train kappa: 0.70\n",
      "Train Accuracy: 0.91\n"
     ]
    }
   ],
   "source": [
    "#Model Fitting\n",
    "modelRFC_o.fit(X_train_o,Y_train_o)\n",
    "predRFC_o = modelRFC_o.predict(X_train_o)\n",
    "print(cross_val_score(modelRFC_o, X_train_o, Y_train_o))\n",
    "print('Train kappa: %.2f' \n",
    "% cohen_kappa_score(y1 = Y_train_o, y2 = predRFC_o))\n",
    "print('Train Accuracy: %.2f' \n",
    "% accuracy_score(y_true = Y_train_o, y_pred = predRFC_o))"
   ]
  },
  {
   "cell_type": "code",
   "execution_count": 61,
   "metadata": {},
   "outputs": [],
   "source": [
    "RF_param_grid = {\n",
    "    'n_estimators': [100, 1000],\n",
    "    'max_features': ['sqrt', 'log2']\n",
    "}"
   ]
  },
  {
   "cell_type": "code",
   "execution_count": 62,
   "metadata": {},
   "outputs": [
    {
     "name": "stdout",
     "output_type": "stream",
     "text": [
      "{'max_features': 'sqrt', 'n_estimators': 1000}\n"
     ]
    }
   ],
   "source": [
    "CV_RFC_o = GridSearchCV(estimator = modelRFC_o, param_grid = RF_param_grid, cv = 5)\n",
    "CV_RFC_o.fit(X_train_o, Y_train_o)\n",
    "print(CV_RFC_o.best_params_)"
   ]
  },
  {
   "cell_type": "code",
   "execution_count": 63,
   "metadata": {},
   "outputs": [],
   "source": [
    "modelRFC_o1 = RandomForestClassifier(n_jobs=-1,max_features=\"log2\", n_estimators=1000, oob_score = True)"
   ]
  },
  {
   "cell_type": "code",
   "execution_count": 64,
   "metadata": {},
   "outputs": [
    {
     "name": "stderr",
     "output_type": "stream",
     "text": [
      "/Users/Andrew/anaconda3/lib/python3.7/site-packages/sklearn/model_selection/_split.py:2053: FutureWarning: You should specify a value for 'cv' instead of relying on the default value. The default value will change from 3 to 5 in version 0.22.\n",
      "  warnings.warn(CV_WARNING, FutureWarning)\n"
     ]
    },
    {
     "name": "stdout",
     "output_type": "stream",
     "text": [
      "[0.79988573 0.786      0.8001143 ]\n",
      "Train kappa: 0.73\n",
      "Train Accuracy: 0.91\n"
     ]
    }
   ],
   "source": [
    "modelRFC_o1.fit(X_train_o,Y_train_o)\n",
    "predRFC_o1 = modelRFC_o1.predict(X_train_o)\n",
    "print(cross_val_score(modelRFC_o1, X_train_o, Y_train_o))\n",
    "print('Train kappa: %.2f' \n",
    "% cohen_kappa_score(y1 = Y_train_o, y2 = predRFC_o1))\n",
    "print('Train Accuracy: %.2f' \n",
    "% accuracy_score(y_true = Y_train_o, y_pred = predRFC_o1))"
   ]
  },
  {
   "cell_type": "markdown",
   "metadata": {},
   "source": [
    "## RFC - Testing"
   ]
  },
  {
   "cell_type": "code",
   "execution_count": 65,
   "metadata": {},
   "outputs": [
    {
     "name": "stdout",
     "output_type": "stream",
     "text": [
      "Test kappa: 0.33\n",
      "Test Accuracy: 0.80\n"
     ]
    }
   ],
   "source": [
    "predRFC_test_o1=modelRFC_o1.predict(X_test_o)\n",
    "print('Test kappa: %.2f' \n",
    "% cohen_kappa_score(y1=Y_test_o, y2=predRFC_test_o1))\n",
    "print('Test Accuracy: %.2f' \n",
    "% accuracy_score(y_true=Y_test_o, y_pred=predRFC_test_o1))"
   ]
  },
  {
   "cell_type": "markdown",
   "metadata": {},
   "source": [
    "## KNC"
   ]
  },
  {
   "cell_type": "code",
   "execution_count": 60,
   "metadata": {},
   "outputs": [
    {
     "name": "stderr",
     "output_type": "stream",
     "text": [
      "/Users/Andrew/anaconda3/lib/python3.7/site-packages/sklearn/model_selection/_split.py:2053: FutureWarning: You should specify a value for 'cv' instead of relying on the default value. The default value will change from 3 to 5 in version 0.22.\n",
      "  warnings.warn(CV_WARNING, FutureWarning)\n"
     ]
    },
    {
     "name": "stdout",
     "output_type": "stream",
     "text": [
      "[0.79231538 0.782      0.79225604]\n",
      "Train kappa: 0.46\n",
      "Train Accuracy: 0.84\n"
     ]
    }
   ],
   "source": [
    "#Model Fitting\n",
    "modelKNC_o.fit(X_train_o,Y_train_o)\n",
    "predKNC_o=modelKNC_o.predict(X_train_o)\n",
    "print(cross_val_score(modelKNC_o, X_train_o, Y_train_o))\n",
    "print('Train kappa: %.2f' \n",
    "% cohen_kappa_score(y1=Y_train_o, y2=predKNC_o))\n",
    "print('Train Accuracy: %.2f' \n",
    "% accuracy_score(y_true=Y_train_o, y_pred=predKNC_o))"
   ]
  },
  {
   "cell_type": "markdown",
   "metadata": {},
   "source": [
    "# Final Analysis"
   ]
  },
  {
   "cell_type": "markdown",
   "metadata": {},
   "source": [
    "### My initial classification notebook overfit the RF model. I removed several features to focus on payment trends and demographic data. The result was a training model accuracy of 91% and performance on a test data set of 80%."
   ]
  },
  {
   "cell_type": "code",
   "execution_count": null,
   "metadata": {},
   "outputs": [],
   "source": []
  }
 ],
 "metadata": {
  "kernelspec": {
   "display_name": "Python 3",
   "language": "python",
   "name": "python3"
  },
  "language_info": {
   "codemirror_mode": {
    "name": "ipython",
    "version": 3
   },
   "file_extension": ".py",
   "mimetype": "text/x-python",
   "name": "python",
   "nbconvert_exporter": "python",
   "pygments_lexer": "ipython3",
   "version": "3.7.3"
  }
 },
 "nbformat": 4,
 "nbformat_minor": 2
}
